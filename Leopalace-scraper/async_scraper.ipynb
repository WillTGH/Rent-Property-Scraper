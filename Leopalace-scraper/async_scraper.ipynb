{
 "cells": [
  {
   "cell_type": "code",
   "execution_count": 107,
   "id": "58cbb1cc",
   "metadata": {},
   "outputs": [],
   "source": [
    "import os\n",
    "import re\n",
    "import json\n",
    "import asyncio\n",
    "import nest_asyncio\n",
    "import numpy as np\n",
    "import pandas as pd\n",
    "import time, random\n",
    "import aiohttp\n",
    "from tqdm import tqdm\n",
    "from lxml import html\n",
    "from concurrent.futures import ThreadPoolExecutor, as_completed"
   ]
  },
  {
   "cell_type": "code",
   "execution_count": 108,
   "id": "1a457fbf",
   "metadata": {},
   "outputs": [],
   "source": [
    "HEADERS = {\n",
    "    \"User-Agent\": \"Mozilla/5.0 (Windows NT 10.0; Win64; x64)\",\n",
    "    \"Accept-Language\": \"en-US,en;q=0.9\",\n",
    "}\n",
    "semaphore = asyncio.Semaphore(10)  # Limit concurrent requests\n",
    "file = 'result.csv' # csv filename"
   ]
  },
  {
   "cell_type": "code",
   "execution_count": 109,
   "id": "81bee434",
   "metadata": {},
   "outputs": [],
   "source": [
    "with open('site_urls.json', 'r') as f:\n",
    "    site_urls = json.load(f)\n",
    "\n",
    "with open('property_urls.json', 'r') as f:\n",
    "    property_urls = json.load(f)"
   ]
  },
  {
   "cell_type": "code",
   "execution_count": 110,
   "id": "6283ad18",
   "metadata": {},
   "outputs": [
    {
     "data": {
      "text/plain": [
       "['https://www.leopalace21.com',\n",
       " 'https://www.leopalace21.com/en/search/chintai/area',\n",
       " 'https://www.leopalace21.com/en/properties/chintai/area/PREFECTURE?page=']"
      ]
     },
     "execution_count": 110,
     "metadata": {},
     "output_type": "execute_result"
    }
   ],
   "source": [
    "site_urls['urls']"
   ]
  },
  {
   "cell_type": "code",
   "execution_count": 111,
   "id": "adb55bdc",
   "metadata": {},
   "outputs": [
    {
     "data": {
      "text/plain": [
       "['https://www.leopalace21.com/en/properties/common/hokkaido/ebetsu-shi-01217/bonita-dois-38530',\n",
       " 'https://www.leopalace21.com/en/properties/common/hokkaido/hakodate-shi-01202/shiawasenoie-17791',\n",
       " 'https://www.leopalace21.com/en/properties/common/hokkaido/hakodate-shi-01202/hakodate-22098',\n",
       " 'https://www.leopalace21.com/en/properties/common/hokkaido/asahikawa-shi-01204/nishimachi-dori-22990',\n",
       " 'https://www.leopalace21.com/en/properties/common/hokkaido/hokuto-shi-01236/dolce-k-y-20774']"
      ]
     },
     "execution_count": 111,
     "metadata": {},
     "output_type": "execute_result"
    }
   ],
   "source": [
    "property_urls['urls'][:5]"
   ]
  },
  {
   "cell_type": "code",
   "execution_count": null,
   "id": "5e7bee3e",
   "metadata": {},
   "outputs": [],
   "source": [
    "def csv_export(result):\n",
    "    df = pd.DataFrame(result)\n",
    "    # if file exists, append without headers\n",
    "    if os.path.exists(file):\n",
    "        dt = pd.read_csv(file)\n",
    "        df = pd.concat([df, dt], ignore_index=True)\n",
    "        df = df.drop_duplicates(subset=['Link'])\n",
    "\n",
    "        df.to_csv(file, mode='w', index=False)\n",
    "    else:\n",
    "        df.to_csv(file, mode='w', index=False)\n",
    "\n",
    "def misc_cost_cleanup(x):\n",
    "    # Try to find a number after the '~'\n",
    "    match = re.search(r'~\\s*[^0-9]*([\\d,]+)', x)\n",
    "    if match:\n",
    "        # Found something after '~'\n",
    "        return int(re.sub(r'[^0-9]', '', match.group(1)))\n",
    "    else:\n",
    "        # No '~' found, just take the numbers in the string\n",
    "        numbers = re.findall(r'[\\d,]+', x)\n",
    "        if numbers:\n",
    "            return int(re.sub(r'[^0-9]', '', numbers[-1]))\n",
    "        else:\n",
    "            return None  # No numbers at all\n",
    "        \n",
    "def query(tree, url):\n",
    "    label = tree.xpath('//ul[@class=\"LabelList_label-list__JZVeD\"]//text()')\n",
    "    label = list(dict.fromkeys(label))\n",
    "    \n",
    "    # query + data cleaning\n",
    "    label = tree.xpath('//ul[@class=\"LabelList_label-list__JZVeD\"]//text()')\n",
    "    label = list(dict.fromkeys(label))\n",
    "    \n",
    "    name, unit = [x for x in tree.xpath('//h1[@class=\"page_heading__9lqpn\"]//text()') if x.strip() != '']\n",
    "    data = [x for x in tree.xpath('//div[@class=\"Price_text-price__OJin9 Price_-normal__yaKpe Price_-responsive__iSQmE Price_-vertical__jGQ9Y\"]//text()') if x.strip() != '']\n",
    "    currency, cost, maintenance = (data + [None, None])[:3]\n",
    "    misc = [x for x in tree.xpath('//h2[@class=\"Heading_text__ihjGf Heading_-h2__ZjScF Heading_-black__oGzwX\"]/text() | //span[@class=\"TitleTextItem_text__4vy_f\"]//text()') if x.strip() != '、' and x.strip() != '-']\n",
    "    misc.remove('Highly recommended points') # remove unwanted text\n",
    "    misc = misc[:misc.index('Address')] # slice list to only include facilities before 'Address'\n",
    "    \n",
    "    facilities = [x for x in misc[: misc.index('Room Details')]]\n",
    "    room_details = [x for x in misc[misc.index('Room Details')+1 : misc.index('Miscellaneous costs')]]\n",
    "    misc_costs_tmp = [x for x in misc[misc.index('Miscellaneous costs')+1 : ]]\n",
    "    \n",
    "    misc_costs = [misc_cost_cleanup(x) for x in misc_costs_tmp[:int(len(misc_costs_tmp)/2)]]\n",
    "    \n",
    "    details = {\n",
    "        'Label' : label,\n",
    "        'Name' : name,\n",
    "        'Unit' : unit,\n",
    "        'Currency' : currency,\n",
    "        'Cost' : cost,\n",
    "        'Maintanence' : maintenance,\n",
    "        'Facilities' : facilities,\n",
    "        'Room Details' : room_details,\n",
    "        'Miscellaneous Costs' : sum(misc_costs),\n",
    "        'Link' : url,\n",
    "        'Map' : tree.xpath('//span[@class=\"Caption_caption__ex6T_\"]//@href')[0]\n",
    "    }\n",
    "    return details\n",
    "\n",
    "async def scrape_data(instance, url):\n",
    "    url = site_urls['urls'][0] + url\n",
    "    print(f\"Scraping details from {url}\")\n",
    "    \n",
    "    async with semaphore:\n",
    "        await asyncio.sleep(random.uniform(1.2, 3.3))\n",
    "        \n",
    "        try:\n",
    "            async with instance.get(url, headers=HEADERS, timeout=20) as response:\n",
    "                content = await response.text()\n",
    "                tree = html.fromstring(content)\n",
    "                return query(tree, url)\n",
    "                \n",
    "        except Exception as e:\n",
    "            print(f\"Error occurred while fetching {url}: {e}\")\n",
    "            return {}\n",
    "\n",
    "async def fetch_property(instance, url):\n",
    "    \n",
    "    async with semaphore:\n",
    "        await asyncio.sleep(random.uniform(1.3, 2.7))\n",
    "        \n",
    "        try:\n",
    "            async with instance.get(url, headers=HEADERS, timeout=20) as response:\n",
    "                content = await response.text()\n",
    "                tree = html.fromstring(content)\n",
    "            \n",
    "                links = tree.xpath('//a[@class=\"RoomItem_link__RoXCn\"]/@href')\n",
    "                tasks = [scrape_data(instance, url) for url in links]\n",
    "                result = await asyncio.gather(*tasks)\n",
    "                \n",
    "                return result\n",
    "                \n",
    "        except Exception as e:\n",
    "            print(f\"Error occurred while fetching {url}: {e}\")\n",
    "            result = []\n",
    "    \n",
    "async def main():\n",
    "    \n",
    "    async with aiohttp.ClientSession() as instance:\n",
    "        \n",
    "        tasks = []\n",
    "        for url in property_urls['urls'][:2]: \n",
    "            tasks.append(fetch_property(instance, url))\n",
    "        \n",
    "        results = await asyncio.gather(*tasks)\n",
    "        \n",
    "        flaten_results = [item for sublist in results for item in sublist]\n",
    "        csv_export(flaten_results)\n",
    "        # for i in flaten_results:\n",
    "        #     print(i)"
   ]
  },
  {
   "cell_type": "code",
   "execution_count": 113,
   "id": "760e907b",
   "metadata": {},
   "outputs": [],
   "source": [
    "nest_asyncio.apply()"
   ]
  },
  {
   "cell_type": "code",
   "execution_count": 144,
   "id": "9b904cba",
   "metadata": {},
   "outputs": [
    {
     "name": "stdout",
     "output_type": "stream",
     "text": [
      "Scraping details from https://www.leopalace21.com/en/properties/chintai/hokkaido/ebetsu-shi-01217/bonita-dois-38530/101\n",
      "Scraping details from https://www.leopalace21.com/en/properties/chintai/hokkaido/ebetsu-shi-01217/bonita-dois-38530/105\n",
      "Scraping details from https://www.leopalace21.com/en/properties/chintai/hokkaido/ebetsu-shi-01217/bonita-dois-38530/109\n",
      "Scraping details from https://www.leopalace21.com/en/properties/chintai/hokkaido/ebetsu-shi-01217/bonita-dois-38530/201\n",
      "Scraping details from https://www.leopalace21.com/en/properties/chintai/hokkaido/ebetsu-shi-01217/bonita-dois-38530/202\n",
      "Scraping details from https://www.leopalace21.com/en/properties/chintai/hokkaido/ebetsu-shi-01217/bonita-dois-38530/203\n",
      "Scraping details from https://www.leopalace21.com/en/properties/chintai/hokkaido/ebetsu-shi-01217/bonita-dois-38530/204\n",
      "Scraping details from https://www.leopalace21.com/en/properties/chintai/hokkaido/ebetsu-shi-01217/bonita-dois-38530/205\n",
      "Scraping details from https://www.leopalace21.com/en/properties/chintai/hokkaido/ebetsu-shi-01217/bonita-dois-38530/208\n",
      "Scraping details from https://www.leopalace21.com/en/properties/monthly/hokkaido/ebetsu-shi-01217/bonita-dois-38530/101\n",
      "Scraping details from https://www.leopalace21.com/en/properties/monthly/hokkaido/ebetsu-shi-01217/bonita-dois-38530/105\n",
      "Scraping details from https://www.leopalace21.com/en/properties/monthly/hokkaido/ebetsu-shi-01217/bonita-dois-38530/109\n",
      "Scraping details from https://www.leopalace21.com/en/properties/monthly/hokkaido/ebetsu-shi-01217/bonita-dois-38530/201\n",
      "Scraping details from https://www.leopalace21.com/en/properties/monthly/hokkaido/ebetsu-shi-01217/bonita-dois-38530/202\n",
      "Scraping details from https://www.leopalace21.com/en/properties/monthly/hokkaido/ebetsu-shi-01217/bonita-dois-38530/203\n",
      "Scraping details from https://www.leopalace21.com/en/properties/monthly/hokkaido/ebetsu-shi-01217/bonita-dois-38530/204\n",
      "Scraping details from https://www.leopalace21.com/en/properties/monthly/hokkaido/ebetsu-shi-01217/bonita-dois-38530/205\n",
      "Scraping details from https://www.leopalace21.com/en/properties/monthly/hokkaido/ebetsu-shi-01217/bonita-dois-38530/208\n",
      "Scraping details from https://www.leopalace21.com/en/properties/chintai/hokkaido/hakodate-shi-01202/shiawasenoie-17791/103\n",
      "Scraping details from https://www.leopalace21.com/en/properties/chintai/hokkaido/hakodate-shi-01202/shiawasenoie-17791/105\n",
      "Scraping details from https://www.leopalace21.com/en/properties/chintai/hokkaido/hakodate-shi-01202/shiawasenoie-17791/204\n",
      "Scraping details from https://www.leopalace21.com/en/properties/monthly/hokkaido/hakodate-shi-01202/shiawasenoie-17791/103\n",
      "Scraping details from https://www.leopalace21.com/en/properties/monthly/hokkaido/hakodate-shi-01202/shiawasenoie-17791/105\n",
      "Scraping details from https://www.leopalace21.com/en/properties/monthly/hokkaido/hakodate-shi-01202/shiawasenoie-17791/204\n",
      "{'Label': ['Online Consultation・Contract', 'Double Discount'], 'Name': 'leopalace Bonita Dois', 'Unit': 'Unit 101', 'Currency': '¥', 'Cost': '37,000', 'Maintanence': '（Maintenance Fee ¥4,000）', 'Facilities': ['Facilities', 'Separated bath and toilet', 'Bathroom dryer', 'Washlet with warm water', 'Indoor washing machine place', 'Smartlock', 'Internet Compatible', 'LEONET', 'Hot-water supply', 'Flooring ', 'Bicycle parking area', 'Separated bath and toilet', 'Bathroom dryer', 'Washlet with warm water', 'Indoor washing machine place', 'Smartlock', 'Internet Compatible', 'LEONET', 'Hot-water supply', 'Flooring ', 'Bicycle parking area'], 'Room Details': ['Bunkyodai 51-5,Ebetsu-shi,Hokkai-do', 'Hakodate main line 「Shinrinkoenstation」walk 17 minutes\\nHakodate main line 「Oasastation」walk 21 minutes', '1K/23.18㎡', 'Available ', 'Wooden', '1/2', '18', 'None', '2 years ¥13,130 ~ ¥26,680', 'Directly-managed store: Owner \\nLender Partners: Intermediation ', 'Scheduled to leave', 'Apartment/Property Age: 17 Years（September 2008）', 'October 27 2025'], 'Miscellaneous Costs': 131715, 'Link': 'https://www.leopalace21.com/en/properties/chintai/hokkaido/ebetsu-shi-01217/bonita-dois-38530/101', 'Map': 'https://www.google.com/maps/search/?api=1&query=43.061775%2C141.48653'}\n",
      "{'Label': ['Online Consultation・Contract', 'Double Discount'], 'Name': 'leopalace Bonita Dois', 'Unit': 'Unit 105', 'Currency': '¥', 'Cost': '36,000', 'Maintanence': '（Maintenance Fee ¥4,000）', 'Facilities': ['Facilities', 'Separated bath and toilet', 'Bathroom dryer', 'Washlet with warm water', 'Indoor washing machine place', 'Smartlock', 'Internet Compatible', 'LEONET(Life Stick)', 'Hot-water supply', 'Flooring ', 'Bicycle parking area', 'Separated bath and toilet', 'Bathroom dryer', 'Washlet with warm water', 'Indoor washing machine place', 'Smartlock', 'Internet Compatible', 'LEONET(Life Stick)', 'Hot-water supply', 'Flooring ', 'Bicycle parking area'], 'Room Details': ['Bunkyodai 51-5,Ebetsu-shi,Hokkai-do', 'Hakodate main line 「Shinrinkoenstation」walk 17 minutes\\nHakodate main line 「Oasastation」walk 21 minutes', '1K/23.18㎡', 'Available ', 'Wooden', '1/2', '18', 'None', '2 years ¥13,130 ~ ¥26,680', 'Directly-managed store: Owner \\nLender Partners: Intermediation ', 'Scheduled to leave', 'Apartment/Property Age: 17 Years（September 2008）', 'October 27 2025'], 'Miscellaneous Costs': 131715, 'Link': 'https://www.leopalace21.com/en/properties/chintai/hokkaido/ebetsu-shi-01217/bonita-dois-38530/105', 'Map': 'https://www.google.com/maps/search/?api=1&query=43.061775%2C141.48653'}\n",
      "{'Label': ['Online Consultation・Contract', 'Double Discount'], 'Name': 'leopalace Bonita Dois', 'Unit': 'Unit 109', 'Currency': '¥', 'Cost': '37,000', 'Maintanence': '（Maintenance Fee ¥4,000）', 'Facilities': ['Facilities', 'Separated bath and toilet', 'Bathroom dryer', 'Washlet with warm water', 'Indoor washing machine place', 'Smartlock', 'Internet Compatible', 'LEONET', 'Hot-water supply', 'Flooring ', 'Bicycle parking area', 'Separated bath and toilet', 'Bathroom dryer', 'Washlet with warm water', 'Indoor washing machine place', 'Smartlock', 'Internet Compatible', 'LEONET', 'Hot-water supply', 'Flooring ', 'Bicycle parking area'], 'Room Details': ['Bunkyodai 51-5,Ebetsu-shi,Hokkai-do', 'Hakodate main line 「Shinrinkoenstation」walk 17 minutes\\nHakodate main line 「Oasastation」walk 21 minutes', '1K/23.18㎡', 'Available ', 'Wooden', '1/2', '18', 'None', '2 years ¥13,130 ~ ¥26,680', 'Directly-managed store: Owner \\nLender Partners: Intermediation ', 'Vacant', 'Apartment/Property Age: 17 Years（September 2008）', 'October 23 2025'], 'Miscellaneous Costs': 131715, 'Link': 'https://www.leopalace21.com/en/properties/chintai/hokkaido/ebetsu-shi-01217/bonita-dois-38530/109', 'Map': 'https://www.google.com/maps/search/?api=1&query=43.061775%2C141.48653'}\n",
      "{'Label': ['Online Consultation・Contract', 'Double Discount'], 'Name': 'leopalace Bonita Dois', 'Unit': 'Unit 201', 'Currency': '¥', 'Cost': '39,000', 'Maintanence': '（Maintenance Fee ¥4,000）', 'Facilities': ['Facilities', 'Separated bath and toilet', 'Bathroom dryer', 'Washlet with warm water', 'Indoor washing machine place', 'Smartlock', 'Internet Compatible', 'LEONET(Life Stick)', 'Hot-water supply', 'Bicycle parking area', 'Separated bath and toilet', 'Bathroom dryer', 'Washlet with warm water', 'Indoor washing machine place', 'Smartlock', 'Internet Compatible', 'LEONET(Life Stick)', 'Hot-water supply', 'Bicycle parking area'], 'Room Details': ['Bunkyodai 51-5,Ebetsu-shi,Hokkai-do', 'Hakodate main line 「Shinrinkoenstation」walk 17 minutes\\nHakodate main line 「Oasastation」walk 21 minutes', '1K/23.18㎡', 'Available ', 'Wooden', '2/2', '18', 'None', '2 years ¥13,130 ~ ¥26,680', 'Directly-managed store: Owner \\nLender Partners: Intermediation ', 'Scheduled to leave', 'Apartment/Property Age: 17 Years（September 2008）', 'October 27 2025'], 'Miscellaneous Costs': 131715, 'Link': 'https://www.leopalace21.com/en/properties/chintai/hokkaido/ebetsu-shi-01217/bonita-dois-38530/201', 'Map': 'https://www.google.com/maps/search/?api=1&query=43.061775%2C141.48653'}\n",
      "{'Label': ['Online Consultation・Contract', 'Only for individual contract', 'Double Discount'], 'Name': 'leopalace Bonita Dois', 'Unit': 'Unit 202', 'Currency': '¥', 'Cost': '29,000', 'Maintanence': '（Maintenance Fee ¥4,000）', 'Facilities': ['Facilities', 'Separated bath and toilet', 'Bathroom dryer', 'Washlet with warm water', 'Indoor washing machine place', 'Smartlock', 'Internet Compatible', 'LEONET(Life Stick)', 'Hot-water supply', 'Bicycle parking area', 'Separated bath and toilet', 'Bathroom dryer', 'Washlet with warm water', 'Indoor washing machine place', 'Smartlock', 'Internet Compatible', 'LEONET(Life Stick)', 'Hot-water supply', 'Bicycle parking area'], 'Room Details': ['Bunkyodai 51-5,Ebetsu-shi,Hokkai-do', 'Hakodate main line 「Shinrinkoenstation」walk 17 minutes\\nHakodate main line 「Oasastation」walk 21 minutes', '1K/23.18㎡', 'Available ', 'Wooden', '2/2', '18', 'None', '2 years ¥13,130 ~ ¥26,680', 'Directly-managed store: Owner \\nLender Partners: Intermediation ', 'Vacant', 'Apartment/Property Age: 17 Years（September 2008）', 'October 23 2025'], 'Miscellaneous Costs': 131715, 'Link': 'https://www.leopalace21.com/en/properties/chintai/hokkaido/ebetsu-shi-01217/bonita-dois-38530/202', 'Map': 'https://www.google.com/maps/search/?api=1&query=43.061775%2C141.48653'}\n",
      "{'Label': ['Online Consultation・Contract', 'Only for individual contract', 'Double Discount'], 'Name': 'leopalace Bonita Dois', 'Unit': 'Unit 203', 'Currency': '¥', 'Cost': '29,000', 'Maintanence': '（Maintenance Fee ¥4,000）', 'Facilities': ['Facilities', 'Separated bath and toilet', 'Bathroom dryer', 'Washlet with warm water', 'Indoor washing machine place', 'Smartlock', 'Internet Compatible', 'LEONET(Life Stick)', 'Hot-water supply', 'Bicycle parking area', 'Separated bath and toilet', 'Bathroom dryer', 'Washlet with warm water', 'Indoor washing machine place', 'Smartlock', 'Internet Compatible', 'LEONET(Life Stick)', 'Hot-water supply', 'Bicycle parking area'], 'Room Details': ['Bunkyodai 51-5,Ebetsu-shi,Hokkai-do', 'Hakodate main line 「Shinrinkoenstation」walk 17 minutes\\nHakodate main line 「Oasastation」walk 21 minutes', '1K/23.18㎡', 'Available ', 'Wooden', '2/2', '18', 'None', '2 years ¥13,130 ~ ¥26,680', 'Directly-managed store: Owner \\nLender Partners: Intermediation ', 'Vacant', 'Apartment/Property Age: 17 Years（September 2008）', 'October 23 2025'], 'Miscellaneous Costs': 131715, 'Link': 'https://www.leopalace21.com/en/properties/chintai/hokkaido/ebetsu-shi-01217/bonita-dois-38530/203', 'Map': 'https://www.google.com/maps/search/?api=1&query=43.061775%2C141.48653'}\n",
      "{'Label': ['Online Consultation・Contract', 'Double Discount'], 'Name': 'leopalace Bonita Dois', 'Unit': 'Unit 204', 'Currency': '¥', 'Cost': '38,000', 'Maintanence': '（Maintenance Fee ¥4,000）', 'Facilities': ['Facilities', 'Separated bath and toilet', 'Bathroom dryer', 'Washlet with warm water', 'Indoor washing machine place', 'TV door phone', 'Smartlock', 'Internet Compatible', 'LEONET(Life Stick)', 'Hot-water supply', 'Bicycle parking area', 'Separated bath and toilet', 'Bathroom dryer', 'Washlet with warm water', 'Indoor washing machine place', 'TV door phone', 'Smartlock', 'Internet Compatible', 'LEONET(Life Stick)', 'Hot-water supply', 'Bicycle parking area'], 'Room Details': ['Bunkyodai 51-5,Ebetsu-shi,Hokkai-do', 'Hakodate main line 「Shinrinkoenstation」walk 17 minutes\\nHakodate main line 「Oasastation」walk 21 minutes', '1K/23.18㎡', 'Available ', 'Wooden', '2/2', '18', 'None', '2 years ¥13,130 ~ ¥26,680', 'Directly-managed store: Owner \\nLender Partners: Intermediation ', 'Scheduled to leave', 'Apartment/Property Age: 17 Years（September 2008）', 'November 16 2025'], 'Miscellaneous Costs': 131715, 'Link': 'https://www.leopalace21.com/en/properties/chintai/hokkaido/ebetsu-shi-01217/bonita-dois-38530/204', 'Map': 'https://www.google.com/maps/search/?api=1&query=43.061775%2C141.48653'}\n",
      "{'Label': ['Online Consultation・Contract', 'Double Discount'], 'Name': 'leopalace Bonita Dois', 'Unit': 'Unit 205', 'Currency': '¥', 'Cost': '38,000', 'Maintanence': '（Maintenance Fee ¥4,000）', 'Facilities': ['Facilities', 'Separated bath and toilet', 'Bathroom dryer', 'Washlet with warm water', 'Indoor washing machine place', 'TV door phone', 'Smartlock', 'Internet Compatible', 'LEONET(Life Stick)', 'Hot-water supply', 'Bicycle parking area', 'Separated bath and toilet', 'Bathroom dryer', 'Washlet with warm water', 'Indoor washing machine place', 'TV door phone', 'Smartlock', 'Internet Compatible', 'LEONET(Life Stick)', 'Hot-water supply', 'Bicycle parking area'], 'Room Details': ['Bunkyodai 51-5,Ebetsu-shi,Hokkai-do', 'Hakodate main line 「Shinrinkoenstation」walk 17 minutes\\nHakodate main line 「Oasastation」walk 21 minutes', '1K/23.18㎡', 'Available ', 'Wooden', '2/2', '18', 'None', '2 years ¥13,130 ~ ¥26,680', 'Directly-managed store: Owner \\nLender Partners: Intermediation ', 'Vacant', 'Apartment/Property Age: 17 Years（September 2008）', 'October 23 2025'], 'Miscellaneous Costs': 131715, 'Link': 'https://www.leopalace21.com/en/properties/chintai/hokkaido/ebetsu-shi-01217/bonita-dois-38530/205', 'Map': 'https://www.google.com/maps/search/?api=1&query=43.061775%2C141.48653'}\n",
      "{'Label': ['Online Consultation・Contract', 'Double Discount'], 'Name': 'leopalace Bonita Dois', 'Unit': 'Unit 208', 'Currency': '¥', 'Cost': '38,000', 'Maintanence': '（Maintenance Fee ¥4,000）', 'Facilities': ['Facilities', 'Separated bath and toilet', 'Bathroom dryer', 'Washlet with warm water', 'Indoor washing machine place', 'Smartlock', 'Internet Compatible', 'LEONET(Life Stick)', 'Hot-water supply', 'Bicycle parking area', 'Separated bath and toilet', 'Bathroom dryer', 'Washlet with warm water', 'Indoor washing machine place', 'Smartlock', 'Internet Compatible', 'LEONET(Life Stick)', 'Hot-water supply', 'Bicycle parking area'], 'Room Details': ['Bunkyodai 51-5,Ebetsu-shi,Hokkai-do', 'Hakodate main line 「Shinrinkoenstation」walk 17 minutes\\nHakodate main line 「Oasastation」walk 21 minutes', '1K/23.18㎡', 'Available ', 'Wooden', '2/2', '18', 'None', '2 years ¥13,130 ~ ¥26,680', 'Directly-managed store: Owner \\nLender Partners: Intermediation ', 'Vacant', 'Apartment/Property Age: 17 Years（September 2008）', 'October 23 2025'], 'Miscellaneous Costs': 131715, 'Link': 'https://www.leopalace21.com/en/properties/chintai/hokkaido/ebetsu-shi-01217/bonita-dois-38530/208', 'Map': 'https://www.google.com/maps/search/?api=1&query=43.061775%2C141.48653'}\n",
      "{'Label': ['Online Consultation・Contract'], 'Name': 'leopalace Bonita Dois', 'Unit': 'Unit 101', 'Currency': '¥', 'Cost': '136,400', 'Maintanence': '/ ', 'Facilities': ['Facilities', 'Separated bath and toilet', 'Bathroom dryer', 'Washlet with warm water', 'Indoor washing machine place', 'Smartlock', 'Internet Compatible', 'LEONET', 'Hot-water supply', 'Flooring ', 'Bicycle parking area', 'Separated bath and toilet', 'Bathroom dryer', 'Washlet with warm water', 'Indoor washing machine place', 'Smartlock', 'Internet Compatible', 'LEONET', 'Hot-water supply', 'Flooring ', 'Bicycle parking area'], 'Room Details': ['Bunkyodai 51-5,Ebetsu-shi,Hokkai-do', 'Hakodate main line 「Shinrinkoenstation」walk 17 minutes\\nHakodate main line 「Oasastation」walk 21 minutes', '1K/23.18㎡', 'Available ', 'Wooden', '1/2', '18', 'None', 'Included in service', 'Directly-managed store: Owner \\nLender Partners: Intermediation ', 'Scheduled to leave', 'Apartment/Property Age: 17 Years（September 2008）', 'October 27 2025'], 'Miscellaneous Costs': 40370, 'Link': 'https://www.leopalace21.com/en/properties/monthly/hokkaido/ebetsu-shi-01217/bonita-dois-38530/101', 'Map': 'https://www.google.com/maps/search/?api=1&query=43.061775%2C141.48653'}\n",
      "{'Label': ['Online Consultation・Contract'], 'Name': 'leopalace Bonita Dois', 'Unit': 'Unit 105', 'Currency': '¥', 'Cost': '136,400', 'Maintanence': '/ ', 'Facilities': ['Facilities', 'Separated bath and toilet', 'Bathroom dryer', 'Washlet with warm water', 'Indoor washing machine place', 'Smartlock', 'Internet Compatible', 'LEONET(Life Stick)', 'Hot-water supply', 'Flooring ', 'Bicycle parking area', 'Separated bath and toilet', 'Bathroom dryer', 'Washlet with warm water', 'Indoor washing machine place', 'Smartlock', 'Internet Compatible', 'LEONET(Life Stick)', 'Hot-water supply', 'Flooring ', 'Bicycle parking area'], 'Room Details': ['Bunkyodai 51-5,Ebetsu-shi,Hokkai-do', 'Hakodate main line 「Shinrinkoenstation」walk 17 minutes\\nHakodate main line 「Oasastation」walk 21 minutes', '1K/23.18㎡', 'Available ', 'Wooden', '1/2', '18', 'None', 'Included in service', 'Directly-managed store: Owner \\nLender Partners: Intermediation ', 'Scheduled to leave', 'Apartment/Property Age: 17 Years（September 2008）', 'October 27 2025'], 'Miscellaneous Costs': 40370, 'Link': 'https://www.leopalace21.com/en/properties/monthly/hokkaido/ebetsu-shi-01217/bonita-dois-38530/105', 'Map': 'https://www.google.com/maps/search/?api=1&query=43.061775%2C141.48653'}\n",
      "{'Label': ['Online Consultation・Contract'], 'Name': 'leopalace Bonita Dois', 'Unit': 'Unit 109', 'Currency': '¥', 'Cost': '136,400', 'Maintanence': '/ ', 'Facilities': ['Facilities', 'Separated bath and toilet', 'Bathroom dryer', 'Washlet with warm water', 'Indoor washing machine place', 'Smartlock', 'Internet Compatible', 'LEONET', 'Hot-water supply', 'Flooring ', 'Bicycle parking area', 'Separated bath and toilet', 'Bathroom dryer', 'Washlet with warm water', 'Indoor washing machine place', 'Smartlock', 'Internet Compatible', 'LEONET', 'Hot-water supply', 'Flooring ', 'Bicycle parking area'], 'Room Details': ['Bunkyodai 51-5,Ebetsu-shi,Hokkai-do', 'Hakodate main line 「Shinrinkoenstation」walk 17 minutes\\nHakodate main line 「Oasastation」walk 21 minutes', '1K/23.18㎡', 'Available ', 'Wooden', '1/2', '18', 'None', 'Included in service', 'Directly-managed store: Owner \\nLender Partners: Intermediation ', 'Vacant', 'Apartment/Property Age: 17 Years（September 2008）', 'October 24 2025'], 'Miscellaneous Costs': 40370, 'Link': 'https://www.leopalace21.com/en/properties/monthly/hokkaido/ebetsu-shi-01217/bonita-dois-38530/109', 'Map': 'https://www.google.com/maps/search/?api=1&query=43.061775%2C141.48653'}\n",
      "{'Label': ['Online Consultation・Contract'], 'Name': 'leopalace Bonita Dois', 'Unit': 'Unit 201', 'Currency': '¥', 'Cost': '136,400', 'Maintanence': '/ ', 'Facilities': ['Facilities', 'Separated bath and toilet', 'Bathroom dryer', 'Washlet with warm water', 'Indoor washing machine place', 'Smartlock', 'Internet Compatible', 'LEONET(Life Stick)', 'Hot-water supply', 'Bicycle parking area', 'Separated bath and toilet', 'Bathroom dryer', 'Washlet with warm water', 'Indoor washing machine place', 'Smartlock', 'Internet Compatible', 'LEONET(Life Stick)', 'Hot-water supply', 'Bicycle parking area'], 'Room Details': ['Bunkyodai 51-5,Ebetsu-shi,Hokkai-do', 'Hakodate main line 「Shinrinkoenstation」walk 17 minutes\\nHakodate main line 「Oasastation」walk 21 minutes', '1K/23.18㎡', 'Available ', 'Wooden', '2/2', '18', 'None', 'Included in service', 'Directly-managed store: Owner \\nLender Partners: Intermediation ', 'Scheduled to leave', 'Apartment/Property Age: 17 Years（September 2008）', 'October 27 2025'], 'Miscellaneous Costs': 40370, 'Link': 'https://www.leopalace21.com/en/properties/monthly/hokkaido/ebetsu-shi-01217/bonita-dois-38530/201', 'Map': 'https://www.google.com/maps/search/?api=1&query=43.061775%2C141.48653'}\n",
      "{'Label': ['Online Consultation・Contract', 'Only for individual contract'], 'Name': 'leopalace Bonita Dois', 'Unit': 'Unit 202', 'Currency': '¥', 'Cost': '124,300', 'Maintanence': '/ ', 'Facilities': ['Facilities', 'Separated bath and toilet', 'Bathroom dryer', 'Washlet with warm water', 'Indoor washing machine place', 'Smartlock', 'Internet Compatible', 'LEONET(Life Stick)', 'Hot-water supply', 'Bicycle parking area', 'Separated bath and toilet', 'Bathroom dryer', 'Washlet with warm water', 'Indoor washing machine place', 'Smartlock', 'Internet Compatible', 'LEONET(Life Stick)', 'Hot-water supply', 'Bicycle parking area'], 'Room Details': ['Bunkyodai 51-5,Ebetsu-shi,Hokkai-do', 'Hakodate main line 「Shinrinkoenstation」walk 17 minutes\\nHakodate main line 「Oasastation」walk 21 minutes', '1K/23.18㎡', 'Available ', 'Wooden', '2/2', '18', 'None', 'Included in service', 'Directly-managed store: Owner \\nLender Partners: Intermediation ', 'Vacant', 'Apartment/Property Age: 17 Years（September 2008）', 'October 24 2025'], 'Miscellaneous Costs': 40370, 'Link': 'https://www.leopalace21.com/en/properties/monthly/hokkaido/ebetsu-shi-01217/bonita-dois-38530/202', 'Map': 'https://www.google.com/maps/search/?api=1&query=43.061775%2C141.48653'}\n",
      "{'Label': ['Online Consultation・Contract', 'Only for individual contract'], 'Name': 'leopalace Bonita Dois', 'Unit': 'Unit 203', 'Currency': '¥', 'Cost': '124,300', 'Maintanence': '/ ', 'Facilities': ['Facilities', 'Separated bath and toilet', 'Bathroom dryer', 'Washlet with warm water', 'Indoor washing machine place', 'Smartlock', 'Internet Compatible', 'LEONET(Life Stick)', 'Hot-water supply', 'Bicycle parking area', 'Separated bath and toilet', 'Bathroom dryer', 'Washlet with warm water', 'Indoor washing machine place', 'Smartlock', 'Internet Compatible', 'LEONET(Life Stick)', 'Hot-water supply', 'Bicycle parking area'], 'Room Details': ['Bunkyodai 51-5,Ebetsu-shi,Hokkai-do', 'Hakodate main line 「Shinrinkoenstation」walk 17 minutes\\nHakodate main line 「Oasastation」walk 21 minutes', '1K/23.18㎡', 'Available ', 'Wooden', '2/2', '18', 'None', 'Included in service', 'Directly-managed store: Owner \\nLender Partners: Intermediation ', 'Vacant', 'Apartment/Property Age: 17 Years（September 2008）', 'October 24 2025'], 'Miscellaneous Costs': 40370, 'Link': 'https://www.leopalace21.com/en/properties/monthly/hokkaido/ebetsu-shi-01217/bonita-dois-38530/203', 'Map': 'https://www.google.com/maps/search/?api=1&query=43.061775%2C141.48653'}\n",
      "{'Label': ['Online Consultation・Contract'], 'Name': 'leopalace Bonita Dois', 'Unit': 'Unit 204', 'Currency': '¥', 'Cost': '136,400', 'Maintanence': '/ ', 'Facilities': ['Facilities', 'Separated bath and toilet', 'Bathroom dryer', 'Washlet with warm water', 'Indoor washing machine place', 'TV door phone', 'Smartlock', 'Internet Compatible', 'LEONET(Life Stick)', 'Hot-water supply', 'Bicycle parking area', 'Separated bath and toilet', 'Bathroom dryer', 'Washlet with warm water', 'Indoor washing machine place', 'TV door phone', 'Smartlock', 'Internet Compatible', 'LEONET(Life Stick)', 'Hot-water supply', 'Bicycle parking area'], 'Room Details': ['Bunkyodai 51-5,Ebetsu-shi,Hokkai-do', 'Hakodate main line 「Shinrinkoenstation」walk 17 minutes\\nHakodate main line 「Oasastation」walk 21 minutes', '1K/23.18㎡', 'Available ', 'Wooden', '2/2', '18', 'None', 'Included in service', 'Directly-managed store: Owner \\nLender Partners: Intermediation ', 'Scheduled to leave', 'Apartment/Property Age: 17 Years（September 2008）', 'November 16 2025'], 'Miscellaneous Costs': 40370, 'Link': 'https://www.leopalace21.com/en/properties/monthly/hokkaido/ebetsu-shi-01217/bonita-dois-38530/204', 'Map': 'https://www.google.com/maps/search/?api=1&query=43.061775%2C141.48653'}\n",
      "{'Label': ['Online Consultation・Contract'], 'Name': 'leopalace Bonita Dois', 'Unit': 'Unit 205', 'Currency': '¥', 'Cost': '136,400', 'Maintanence': '/ ', 'Facilities': ['Facilities', 'Separated bath and toilet', 'Bathroom dryer', 'Washlet with warm water', 'Indoor washing machine place', 'TV door phone', 'Smartlock', 'Internet Compatible', 'LEONET(Life Stick)', 'Hot-water supply', 'Bicycle parking area', 'Separated bath and toilet', 'Bathroom dryer', 'Washlet with warm water', 'Indoor washing machine place', 'TV door phone', 'Smartlock', 'Internet Compatible', 'LEONET(Life Stick)', 'Hot-water supply', 'Bicycle parking area'], 'Room Details': ['Bunkyodai 51-5,Ebetsu-shi,Hokkai-do', 'Hakodate main line 「Shinrinkoenstation」walk 17 minutes\\nHakodate main line 「Oasastation」walk 21 minutes', '1K/23.18㎡', 'Available ', 'Wooden', '2/2', '18', 'None', 'Included in service', 'Directly-managed store: Owner \\nLender Partners: Intermediation ', 'Vacant', 'Apartment/Property Age: 17 Years（September 2008）', 'October 24 2025'], 'Miscellaneous Costs': 40370, 'Link': 'https://www.leopalace21.com/en/properties/monthly/hokkaido/ebetsu-shi-01217/bonita-dois-38530/205', 'Map': 'https://www.google.com/maps/search/?api=1&query=43.061775%2C141.48653'}\n",
      "{'Label': ['Online Consultation・Contract'], 'Name': 'leopalace Bonita Dois', 'Unit': 'Unit 208', 'Currency': '¥', 'Cost': '136,400', 'Maintanence': '/ ', 'Facilities': ['Facilities', 'Separated bath and toilet', 'Bathroom dryer', 'Washlet with warm water', 'Indoor washing machine place', 'Smartlock', 'Internet Compatible', 'LEONET(Life Stick)', 'Hot-water supply', 'Bicycle parking area', 'Separated bath and toilet', 'Bathroom dryer', 'Washlet with warm water', 'Indoor washing machine place', 'Smartlock', 'Internet Compatible', 'LEONET(Life Stick)', 'Hot-water supply', 'Bicycle parking area'], 'Room Details': ['Bunkyodai 51-5,Ebetsu-shi,Hokkai-do', 'Hakodate main line 「Shinrinkoenstation」walk 17 minutes\\nHakodate main line 「Oasastation」walk 21 minutes', '1K/23.18㎡', 'Available ', 'Wooden', '2/2', '18', 'None', 'Included in service', 'Directly-managed store: Owner \\nLender Partners: Intermediation ', 'Vacant', 'Apartment/Property Age: 17 Years（September 2008）', 'October 24 2025'], 'Miscellaneous Costs': 40370, 'Link': 'https://www.leopalace21.com/en/properties/monthly/hokkaido/ebetsu-shi-01217/bonita-dois-38530/208', 'Map': 'https://www.google.com/maps/search/?api=1&query=43.061775%2C141.48653'}\n",
      "{'Label': ['Online Consultation・Contract', 'Only for individual contract'], 'Name': 'leopalace Shiawasenoie', 'Unit': 'Unit 103', 'Currency': '¥', 'Cost': '30,000', 'Maintanence': '（Maintenance Fee ¥6,500）', 'Facilities': ['Facilities', 'Separated bath and toilet', 'Bathroom dryer', 'Washlet with warm water', 'Indoor washing machine place', 'Delivery box ', 'Smartlock', 'Internet Compatible', 'LEONET', 'Hot-water supply', 'Air conditioner', 'Flooring ', 'Bicycle parking area', 'Green LP Gas', 'Separated bath and toilet', 'Bathroom dryer', 'Washlet with warm water', 'Indoor washing machine place', 'Delivery box ', 'Smartlock', 'Internet Compatible', 'LEONET', 'Hot-water supply', 'Air conditioner', 'Flooring ', 'Bicycle parking area', 'Green LP Gas'], 'Room Details': ['Takamatsu-cho 575-43,Hakodate-shi,Hokkai-do', 'Hakodate main line「Hakodatestation」Bus 35 minute Kukodanchi get off and walk 4 minute', '1K/23.18㎡', 'Available ', 'Wooden', '1/2', '12', 'None', '2 years ¥13,130 ~ ¥26,680', 'Directly-managed store: Owner \\nLender Partners: Intermediation ', 'Vacant', 'Apartment/Property Age: 23 Years（July 2002）', 'October 23 2025', 'Limited to individual contracts.'], 'Miscellaneous Costs': 131715, 'Link': 'https://www.leopalace21.com/en/properties/chintai/hokkaido/hakodate-shi-01202/shiawasenoie-17791/103', 'Map': 'https://www.google.com/maps/search/?api=1&query=41.780388%2C140.81754'}\n",
      "{'Label': ['Online Consultation・Contract', 'Only for individual contract'], 'Name': 'leopalace Shiawasenoie', 'Unit': 'Unit 105', 'Currency': '¥', 'Cost': '30,000', 'Maintanence': '（Maintenance Fee ¥6,500）', 'Facilities': ['Facilities', 'Separated bath and toilet', 'Bathroom dryer', 'Washlet with warm water', 'Indoor washing machine place', 'Delivery box ', 'Smartlock', 'Internet Compatible', 'LEONET', 'Hot-water supply', 'Air conditioner', 'Flooring ', 'Bicycle parking area', 'Green LP Gas', 'Separated bath and toilet', 'Bathroom dryer', 'Washlet with warm water', 'Indoor washing machine place', 'Delivery box ', 'Smartlock', 'Internet Compatible', 'LEONET', 'Hot-water supply', 'Air conditioner', 'Flooring ', 'Bicycle parking area', 'Green LP Gas'], 'Room Details': ['Takamatsu-cho 575-43,Hakodate-shi,Hokkai-do', 'Hakodate main line「Hakodatestation」Bus 35 minute Kukodanchi get off and walk 4 minute', '1K/23.18㎡', 'Available ', 'Wooden', '1/2', '12', 'None', '2 years ¥13,130 ~ ¥26,680', 'Directly-managed store: Owner \\nLender Partners: Intermediation ', 'Vacant', 'Apartment/Property Age: 23 Years（July 2002）', 'October 23 2025', 'Limited to individual contracts.'], 'Miscellaneous Costs': 131715, 'Link': 'https://www.leopalace21.com/en/properties/chintai/hokkaido/hakodate-shi-01202/shiawasenoie-17791/105', 'Map': 'https://www.google.com/maps/search/?api=1&query=41.780388%2C140.81754'}\n",
      "{'Label': ['Online Consultation・Contract', 'Only for individual contract'], 'Name': 'leopalace Shiawasenoie', 'Unit': 'Unit 204', 'Currency': '¥', 'Cost': '42,000', 'Maintanence': '（Maintenance Fee ¥6,500）', 'Facilities': ['Facilities', 'Separated bath and toilet', 'Bathroom dryer', 'Washlet with warm water', 'Indoor washing machine place', 'Delivery box ', 'Smartlock', 'Internet Compatible', 'LEONET(Life Stick)', 'Hot-water supply', 'Air conditioner', 'Carpet ', 'Bicycle parking area', 'Green LP Gas', 'Separated bath and toilet', 'Bathroom dryer', 'Washlet with warm water', 'Indoor washing machine place', 'Delivery box ', 'Smartlock', 'Internet Compatible', 'LEONET(Life Stick)', 'Hot-water supply', 'Air conditioner', 'Carpet ', 'Bicycle parking area', 'Green LP Gas'], 'Room Details': ['Takamatsu-cho 575-43,Hakodate-shi,Hokkai-do', 'Hakodate main line「Hakodatestation」Bus 35 minute Kukodanchi get off and walk 4 minute', '1K/23.18㎡', 'Available ', 'Wooden', '2/2', '12', 'None', '2 years ¥13,130 ~ ¥26,680', 'Directly-managed store: Owner \\nLender Partners: Intermediation ', 'Vacant', 'Apartment/Property Age: 23 Years（July 2002）', 'October 23 2025'], 'Miscellaneous Costs': 131715, 'Link': 'https://www.leopalace21.com/en/properties/chintai/hokkaido/hakodate-shi-01202/shiawasenoie-17791/204', 'Map': 'https://www.google.com/maps/search/?api=1&query=41.780388%2C140.81754'}\n",
      "{'Label': ['Online Consultation・Contract', 'Only for individual contract'], 'Name': 'leopalace Shiawasenoie', 'Unit': 'Unit 103', 'Currency': '¥', 'Cost': '538,450', 'Maintanence': '/ ', 'Facilities': ['Facilities', 'Separated bath and toilet', 'Bathroom dryer', 'Washlet with warm water', 'Indoor washing machine place', 'Delivery box ', 'Smartlock', 'Internet Compatible', 'LEONET', 'Hot-water supply', 'Air conditioner', 'Flooring ', 'Bicycle parking area', 'Green LP Gas', 'Separated bath and toilet', 'Bathroom dryer', 'Washlet with warm water', 'Indoor washing machine place', 'Delivery box ', 'Smartlock', 'Internet Compatible', 'LEONET', 'Hot-water supply', 'Air conditioner', 'Flooring ', 'Bicycle parking area', 'Green LP Gas'], 'Room Details': ['Takamatsu-cho 575-43,Hakodate-shi,Hokkai-do', 'Hakodate main line「Hakodatestation」Bus 35 minute Kukodanchi get off and walk 4 minute', '1K/23.18㎡', 'Available ', 'Wooden', '1/2', '12', 'None', 'Included in service', 'Directly-managed store: Owner \\nLender Partners: Intermediation ', 'Vacant', 'Apartment/Property Age: 23 Years（July 2002）', 'October 24 2025', 'Limited to individual contracts.'], 'Miscellaneous Costs': 40370, 'Link': 'https://www.leopalace21.com/en/properties/monthly/hokkaido/hakodate-shi-01202/shiawasenoie-17791/103', 'Map': 'https://www.google.com/maps/search/?api=1&query=41.780388%2C140.81754'}\n",
      "{'Label': ['Online Consultation・Contract', 'Only for individual contract'], 'Name': 'leopalace Shiawasenoie', 'Unit': 'Unit 105', 'Currency': '¥', 'Cost': '538,450', 'Maintanence': '/ ', 'Facilities': ['Facilities', 'Separated bath and toilet', 'Bathroom dryer', 'Washlet with warm water', 'Indoor washing machine place', 'Delivery box ', 'Smartlock', 'Internet Compatible', 'LEONET', 'Hot-water supply', 'Air conditioner', 'Flooring ', 'Bicycle parking area', 'Green LP Gas', 'Separated bath and toilet', 'Bathroom dryer', 'Washlet with warm water', 'Indoor washing machine place', 'Delivery box ', 'Smartlock', 'Internet Compatible', 'LEONET', 'Hot-water supply', 'Air conditioner', 'Flooring ', 'Bicycle parking area', 'Green LP Gas'], 'Room Details': ['Takamatsu-cho 575-43,Hakodate-shi,Hokkai-do', 'Hakodate main line「Hakodatestation」Bus 35 minute Kukodanchi get off and walk 4 minute', '1K/23.18㎡', 'Available ', 'Wooden', '1/2', '12', 'None', 'Included in service', 'Directly-managed store: Owner \\nLender Partners: Intermediation ', 'Vacant', 'Apartment/Property Age: 23 Years（July 2002）', 'October 24 2025', 'Limited to individual contracts.'], 'Miscellaneous Costs': 40370, 'Link': 'https://www.leopalace21.com/en/properties/monthly/hokkaido/hakodate-shi-01202/shiawasenoie-17791/105', 'Map': 'https://www.google.com/maps/search/?api=1&query=41.780388%2C140.81754'}\n",
      "{'Label': ['Online Consultation・Contract', 'Only for individual contract'], 'Name': 'leopalace Shiawasenoie', 'Unit': 'Unit 204', 'Currency': '¥', 'Cost': '152,900', 'Maintanence': '/ ', 'Facilities': ['Facilities', 'Separated bath and toilet', 'Bathroom dryer', 'Washlet with warm water', 'Indoor washing machine place', 'Delivery box ', 'Smartlock', 'Internet Compatible', 'LEONET(Life Stick)', 'Hot-water supply', 'Air conditioner', 'Carpet ', 'Bicycle parking area', 'Green LP Gas', 'Separated bath and toilet', 'Bathroom dryer', 'Washlet with warm water', 'Indoor washing machine place', 'Delivery box ', 'Smartlock', 'Internet Compatible', 'LEONET(Life Stick)', 'Hot-water supply', 'Air conditioner', 'Carpet ', 'Bicycle parking area', 'Green LP Gas'], 'Room Details': ['Takamatsu-cho 575-43,Hakodate-shi,Hokkai-do', 'Hakodate main line「Hakodatestation」Bus 35 minute Kukodanchi get off and walk 4 minute', '1K/23.18㎡', 'Available ', 'Wooden', '2/2', '12', 'None', 'Included in service', 'Directly-managed store: Owner \\nLender Partners: Intermediation ', 'Vacant', 'Apartment/Property Age: 23 Years（July 2002）', 'October 24 2025'], 'Miscellaneous Costs': 40370, 'Link': 'https://www.leopalace21.com/en/properties/monthly/hokkaido/hakodate-shi-01202/shiawasenoie-17791/204', 'Map': 'https://www.google.com/maps/search/?api=1&query=41.780388%2C140.81754'}\n"
     ]
    }
   ],
   "source": [
    "asyncio.run(main())"
   ]
  }
 ],
 "metadata": {
  "kernelspec": {
   "display_name": "scrap",
   "language": "python",
   "name": "python3"
  },
  "language_info": {
   "codemirror_mode": {
    "name": "ipython",
    "version": 3
   },
   "file_extension": ".py",
   "mimetype": "text/x-python",
   "name": "python",
   "nbconvert_exporter": "python",
   "pygments_lexer": "ipython3",
   "version": "3.11.13"
  }
 },
 "nbformat": 4,
 "nbformat_minor": 5
}
