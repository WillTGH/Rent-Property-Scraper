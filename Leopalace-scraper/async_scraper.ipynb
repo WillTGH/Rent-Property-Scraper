{
 "cells": [
  {
   "cell_type": "code",
   "execution_count": 1,
   "id": "1c129d0d",
   "metadata": {},
   "outputs": [],
   "source": [
    "!playwright install chromium"
   ]
  },
  {
   "cell_type": "code",
   "execution_count": null,
   "id": "58cbb1cc",
   "metadata": {},
   "outputs": [],
   "source": [
    "import os\n",
    "import json\n",
    "import asyncio\n",
    "import nest_asyncio\n",
    "import numpy as np\n",
    "import pandas as pd\n",
    "import time, random\n",
    "from tqdm import tqdm\n",
    "from lxml import html\n",
    "from playwright.async_api import async_playwright\n",
    "from concurrent.futures import ThreadPoolExecutor, as_completed"
   ]
  },
  {
   "cell_type": "code",
   "execution_count": 37,
   "id": "81bee434",
   "metadata": {},
   "outputs": [],
   "source": [
    "with open('site_urls.json', 'r') as f:\n",
    "    site_urls = json.load(f)\n",
    "\n",
    "with open('property_urls.json', 'r') as f:\n",
    "    property_urls = json.load(f)"
   ]
  },
  {
   "cell_type": "code",
   "execution_count": 38,
   "id": "6283ad18",
   "metadata": {},
   "outputs": [
    {
     "data": {
      "text/plain": [
       "['https://www.leopalace21.com',\n",
       " 'https://www.leopalace21.com/en',\n",
       " 'https://www.leopalace21.com/en/search/chintai/area',\n",
       " 'https://www.leopalace21.com/en/properties/chintai/area/PREFECTURE?page=']"
      ]
     },
     "execution_count": 38,
     "metadata": {},
     "output_type": "execute_result"
    }
   ],
   "source": [
    "site_urls['urls']"
   ]
  },
  {
   "cell_type": "code",
   "execution_count": 39,
   "id": "adb55bdc",
   "metadata": {},
   "outputs": [
    {
     "data": {
      "text/plain": [
       "['https://www.leopalace21.com/en/properties/common/hokkaido/ebetsu-shi-01217/light-garden-37080',\n",
       " 'https://www.leopalace21.com/en/properties/common/hokkaido/ebetsu-shi-01217/montmartre-no-oka-38198',\n",
       " 'https://www.leopalace21.com/en/properties/common/hokkaido/hakodate-shi-01202/hakodate-22098',\n",
       " 'https://www.leopalace21.com/en/properties/common/hokkaido/hakodate-shi-01202/himawari-2-23510',\n",
       " 'https://www.leopalace21.com/en/properties/common/hokkaido/hokuto-shi-01236/dolce-k-y-20774']"
      ]
     },
     "execution_count": 39,
     "metadata": {},
     "output_type": "execute_result"
    }
   ],
   "source": [
    "property_urls['urls'][:5]"
   ]
  },
  {
   "cell_type": "markdown",
   "id": "d3af3272",
   "metadata": {},
   "source": [
    "NORMAL FUNCTION"
   ]
  },
  {
   "cell_type": "code",
   "execution_count": 40,
   "id": "30b844e7",
   "metadata": {},
   "outputs": [],
   "source": [
    "def query_details(tree, xpath):\n",
    "    return"
   ]
  },
  {
   "cell_type": "markdown",
   "id": "6f49ba7f",
   "metadata": {},
   "source": [
    "ASYNC FUNCTIONS"
   ]
  },
  {
   "cell_type": "code",
   "execution_count": 2,
   "id": "5e7bee3e",
   "metadata": {},
   "outputs": [],
   "source": [
    "async def scrape_data(client, url):\n",
    "    url = site_urls['urls'][1] + url\n",
    "    content = await client.get(url)\n",
    "    tree = html.fromstring(content)\n",
    "    \n",
    "    details = tree.xpath('//div[@class=\"page_head-bar__lmpS8\"]//text()')\n",
    "    return details\n",
    "\n",
    "async def fetch_property(client, url):\n",
    "    content = await client.get(url)\n",
    "    tree = html.fromstring(content)\n",
    "    \n",
    "    tasks = []\n",
    "    links = tree.xpath('//a[@class=\"RoomItem_link__RoXCn\"]/@href')\n",
    "    for url in links:\n",
    "        tasks.append(scrape_data(client, url))\n",
    "        \n",
    "    result = await asyncio.gather(*tasks)\n",
    "    client.quit()\n",
    "    return result\n",
    "    \n",
    "async def main():\n",
    "    async with uc.Chrome(headless=True) as client:\n",
    "        tasks = []\n",
    "        for url in property_urls['urls'][:3]:\n",
    "            tasks.append(fetch_property(client, url))\n",
    "        \n",
    "        results = await asyncio.gather(*tasks)\n",
    "        # flaten_results = [item for sublist in results for item in sublist]\n",
    "        for i in results:\n",
    "            print(i)\n",
    "            "
   ]
  },
  {
   "cell_type": "code",
   "execution_count": 3,
   "id": "9b904cba",
   "metadata": {},
   "outputs": [
    {
     "ename": "TypeError",
     "evalue": "Binary Location Must be a String",
     "output_type": "error",
     "traceback": [
      "\u001b[31m---------------------------------------------------------------------------\u001b[39m",
      "\u001b[31mTypeError\u001b[39m                                 Traceback (most recent call last)",
      "\u001b[36mCell\u001b[39m\u001b[36m \u001b[39m\u001b[32mIn[3]\u001b[39m\u001b[32m, line 2\u001b[39m\n\u001b[32m      1\u001b[39m nest_asyncio.apply()\n\u001b[32m----> \u001b[39m\u001b[32m2\u001b[39m \u001b[43masyncio\u001b[49m\u001b[43m.\u001b[49m\u001b[43mrun\u001b[49m\u001b[43m(\u001b[49m\u001b[43mmain\u001b[49m\u001b[43m(\u001b[49m\u001b[43m)\u001b[49m\u001b[43m)\u001b[49m\n",
      "\u001b[36mFile \u001b[39m\u001b[32m~/miniconda/envs/scrap/lib/python3.11/site-packages/nest_asyncio.py:30\u001b[39m, in \u001b[36m_patch_asyncio.<locals>.run\u001b[39m\u001b[34m(main, debug)\u001b[39m\n\u001b[32m     28\u001b[39m task = asyncio.ensure_future(main)\n\u001b[32m     29\u001b[39m \u001b[38;5;28;01mtry\u001b[39;00m:\n\u001b[32m---> \u001b[39m\u001b[32m30\u001b[39m     \u001b[38;5;28;01mreturn\u001b[39;00m \u001b[43mloop\u001b[49m\u001b[43m.\u001b[49m\u001b[43mrun_until_complete\u001b[49m\u001b[43m(\u001b[49m\u001b[43mtask\u001b[49m\u001b[43m)\u001b[49m\n\u001b[32m     31\u001b[39m \u001b[38;5;28;01mfinally\u001b[39;00m:\n\u001b[32m     32\u001b[39m     \u001b[38;5;28;01mif\u001b[39;00m \u001b[38;5;129;01mnot\u001b[39;00m task.done():\n",
      "\u001b[36mFile \u001b[39m\u001b[32m~/miniconda/envs/scrap/lib/python3.11/site-packages/nest_asyncio.py:98\u001b[39m, in \u001b[36m_patch_loop.<locals>.run_until_complete\u001b[39m\u001b[34m(self, future)\u001b[39m\n\u001b[32m     95\u001b[39m \u001b[38;5;28;01mif\u001b[39;00m \u001b[38;5;129;01mnot\u001b[39;00m f.done():\n\u001b[32m     96\u001b[39m     \u001b[38;5;28;01mraise\u001b[39;00m \u001b[38;5;167;01mRuntimeError\u001b[39;00m(\n\u001b[32m     97\u001b[39m         \u001b[33m'\u001b[39m\u001b[33mEvent loop stopped before Future completed.\u001b[39m\u001b[33m'\u001b[39m)\n\u001b[32m---> \u001b[39m\u001b[32m98\u001b[39m \u001b[38;5;28;01mreturn\u001b[39;00m \u001b[43mf\u001b[49m\u001b[43m.\u001b[49m\u001b[43mresult\u001b[49m\u001b[43m(\u001b[49m\u001b[43m)\u001b[49m\n",
      "\u001b[36mFile \u001b[39m\u001b[32m~/miniconda/envs/scrap/lib/python3.11/asyncio/futures.py:203\u001b[39m, in \u001b[36mFuture.result\u001b[39m\u001b[34m(self)\u001b[39m\n\u001b[32m    201\u001b[39m \u001b[38;5;28mself\u001b[39m.__log_traceback = \u001b[38;5;28;01mFalse\u001b[39;00m\n\u001b[32m    202\u001b[39m \u001b[38;5;28;01mif\u001b[39;00m \u001b[38;5;28mself\u001b[39m._exception \u001b[38;5;129;01mis\u001b[39;00m \u001b[38;5;129;01mnot\u001b[39;00m \u001b[38;5;28;01mNone\u001b[39;00m:\n\u001b[32m--> \u001b[39m\u001b[32m203\u001b[39m     \u001b[38;5;28;01mraise\u001b[39;00m \u001b[38;5;28mself\u001b[39m._exception.with_traceback(\u001b[38;5;28mself\u001b[39m._exception_tb)\n\u001b[32m    204\u001b[39m \u001b[38;5;28;01mreturn\u001b[39;00m \u001b[38;5;28mself\u001b[39m._result\n",
      "\u001b[36mFile \u001b[39m\u001b[32m~/miniconda/envs/scrap/lib/python3.11/asyncio/tasks.py:277\u001b[39m, in \u001b[36mTask.__step\u001b[39m\u001b[34m(***failed resolving arguments***)\u001b[39m\n\u001b[32m    273\u001b[39m \u001b[38;5;28;01mtry\u001b[39;00m:\n\u001b[32m    274\u001b[39m     \u001b[38;5;28;01mif\u001b[39;00m exc \u001b[38;5;129;01mis\u001b[39;00m \u001b[38;5;28;01mNone\u001b[39;00m:\n\u001b[32m    275\u001b[39m         \u001b[38;5;66;03m# We use the `send` method directly, because coroutines\u001b[39;00m\n\u001b[32m    276\u001b[39m         \u001b[38;5;66;03m# don't have `__iter__` and `__next__` methods.\u001b[39;00m\n\u001b[32m--> \u001b[39m\u001b[32m277\u001b[39m         result = \u001b[43mcoro\u001b[49m\u001b[43m.\u001b[49m\u001b[43msend\u001b[49m\u001b[43m(\u001b[49m\u001b[38;5;28;43;01mNone\u001b[39;49;00m\u001b[43m)\u001b[49m\n\u001b[32m    278\u001b[39m     \u001b[38;5;28;01melse\u001b[39;00m:\n\u001b[32m    279\u001b[39m         result = coro.throw(exc)\n",
      "\u001b[36mCell\u001b[39m\u001b[36m \u001b[39m\u001b[32mIn[2]\u001b[39m\u001b[32m, line 23\u001b[39m, in \u001b[36mmain\u001b[39m\u001b[34m()\u001b[39m\n\u001b[32m     22\u001b[39m \u001b[38;5;28;01masync\u001b[39;00m \u001b[38;5;28;01mdef\u001b[39;00m\u001b[38;5;250m \u001b[39m\u001b[34mmain\u001b[39m():\n\u001b[32m---> \u001b[39m\u001b[32m23\u001b[39m     \u001b[38;5;28;01masync\u001b[39;00m \u001b[38;5;28;01mwith\u001b[39;00m \u001b[43muc\u001b[49m\u001b[43m.\u001b[49m\u001b[43mChrome\u001b[49m\u001b[43m(\u001b[49m\u001b[43mheadless\u001b[49m\u001b[43m=\u001b[49m\u001b[38;5;28;43;01mTrue\u001b[39;49;00m\u001b[43m)\u001b[49m \u001b[38;5;28;01mas\u001b[39;00m client:\n\u001b[32m     24\u001b[39m         tasks = []\n\u001b[32m     25\u001b[39m         \u001b[38;5;28;01mfor\u001b[39;00m url \u001b[38;5;129;01min\u001b[39;00m property_urls[\u001b[33m'\u001b[39m\u001b[33murls\u001b[39m\u001b[33m'\u001b[39m][:\u001b[32m3\u001b[39m]:\n",
      "\u001b[36mFile \u001b[39m\u001b[32m~/miniconda/envs/scrap/lib/python3.11/site-packages/undetected_chromedriver/__init__.py:372\u001b[39m, in \u001b[36mChrome.__init__\u001b[39m\u001b[34m(self, options, user_data_dir, driver_executable_path, browser_executable_path, port, enable_cdp_events, desired_capabilities, advanced_elements, keep_alive, log_level, headless, version_main, patcher_force_close, suppress_welcome, use_subprocess, debug, no_sandbox, user_multi_procs, **kw)\u001b[39m\n\u001b[32m    369\u001b[39m options.add_argument(\u001b[33m\"\u001b[39m\u001b[33m--lang=\u001b[39m\u001b[38;5;132;01m%s\u001b[39;00m\u001b[33m\"\u001b[39m % language)\n\u001b[32m    371\u001b[39m \u001b[38;5;28;01mif\u001b[39;00m \u001b[38;5;129;01mnot\u001b[39;00m options.binary_location:\n\u001b[32m--> \u001b[39m\u001b[32m372\u001b[39m     \u001b[43moptions\u001b[49m\u001b[43m.\u001b[49m\u001b[43mbinary_location\u001b[49m = (\n\u001b[32m    373\u001b[39m         browser_executable_path \u001b[38;5;129;01mor\u001b[39;00m find_chrome_executable()\n\u001b[32m    374\u001b[39m     )\n\u001b[32m    376\u001b[39m \u001b[38;5;28;01mif\u001b[39;00m \u001b[38;5;129;01mnot\u001b[39;00m options.binary_location \u001b[38;5;129;01mor\u001b[39;00m \u001b[38;5;129;01mnot\u001b[39;00m \\\n\u001b[32m    377\u001b[39m         pathlib.Path(options.binary_location).exists():\n\u001b[32m    378\u001b[39m         \u001b[38;5;28;01mraise\u001b[39;00m \u001b[38;5;167;01mFileNotFoundError\u001b[39;00m(\n\u001b[32m    379\u001b[39m             \u001b[33m\"\u001b[39m\u001b[38;5;130;01m\\n\u001b[39;00m\u001b[33m---------------------\u001b[39m\u001b[38;5;130;01m\\n\u001b[39;00m\u001b[33m\"\u001b[39m\n\u001b[32m    380\u001b[39m             \u001b[33m\"\u001b[39m\u001b[33mCould not determine browser executable.\u001b[39m\u001b[33m\"\u001b[39m\n\u001b[32m   (...)\u001b[39m\u001b[32m    385\u001b[39m             .format(\u001b[33m\"\u001b[39m\u001b[33m/path/to/browser/executable\u001b[39m\u001b[33m\"\u001b[39m \u001b[38;5;28;01mif\u001b[39;00m IS_POSIX \u001b[38;5;28;01melse\u001b[39;00m \u001b[33m\"\u001b[39m\u001b[33mc:/path/to/your/browser.exe\u001b[39m\u001b[33m\"\u001b[39m)\n\u001b[32m    386\u001b[39m         )\n",
      "\u001b[36mFile \u001b[39m\u001b[32m~/miniconda/envs/scrap/lib/python3.11/site-packages/selenium/webdriver/chromium/options.py:52\u001b[39m, in \u001b[36mChromiumOptions.binary_location\u001b[39m\u001b[34m(self, value)\u001b[39m\n\u001b[32m     45\u001b[39m \u001b[38;5;250m\u001b[39m\u001b[33;03m\"\"\"Allows you to set where the chromium binary lives.\u001b[39;00m\n\u001b[32m     46\u001b[39m \n\u001b[32m     47\u001b[39m \u001b[33;03mParameters:\u001b[39;00m\n\u001b[32m     48\u001b[39m \u001b[33;03m----------\u001b[39;00m\n\u001b[32m     49\u001b[39m \u001b[33;03m    value: path to the Chromium binary\u001b[39;00m\n\u001b[32m     50\u001b[39m \u001b[33;03m\"\"\"\u001b[39;00m\n\u001b[32m     51\u001b[39m \u001b[38;5;28;01mif\u001b[39;00m \u001b[38;5;129;01mnot\u001b[39;00m \u001b[38;5;28misinstance\u001b[39m(value, \u001b[38;5;28mstr\u001b[39m):\n\u001b[32m---> \u001b[39m\u001b[32m52\u001b[39m     \u001b[38;5;28;01mraise\u001b[39;00m \u001b[38;5;167;01mTypeError\u001b[39;00m(\u001b[38;5;28mself\u001b[39m.BINARY_LOCATION_ERROR)\n\u001b[32m     53\u001b[39m \u001b[38;5;28mself\u001b[39m._binary_location = value\n",
      "\u001b[31mTypeError\u001b[39m: Binary Location Must be a String"
     ]
    }
   ],
   "source": [
    "nest_asyncio.apply()\n",
    "asyncio.run(main())"
   ]
  },
  {
   "cell_type": "markdown",
   "id": "1d875aca",
   "metadata": {},
   "source": [
    "['/properties/chintai/hokkaido/ebetsu-shi-01217/light-garden-37080/101', '/properties/chintai/hokkaido/ebetsu-shi-01217/light-garden-37080/103', '/properties/chintai/hokkaido/ebetsu-shi-01217/light-garden-37080/104', '/properties/chintai/hokkaido/ebetsu-shi-01217/light-garden-37080/106', '/properties/chintai/hokkaido/ebetsu-shi-01217/light-garden-37080/107', '/properties/chintai/hokkaido/ebetsu-shi-01217/light-garden-37080/201', '/properties/chintai/hokkaido/ebetsu-shi-01217/light-garden-37080/202', '/properties/chintai/hokkaido/ebetsu-shi-01217/light-garden-37080/203', '/properties/chintai/hokkaido/ebetsu-shi-01217/light-garden-37080/204', '/properties/chintai/hokkaido/ebetsu-shi-01217/light-garden-37080/206', '/properties/monthly/hokkaido/ebetsu-shi-01217/light-garden-37080/101', '/properties/monthly/hokkaido/ebetsu-shi-01217/light-garden-37080/103', '/properties/monthly/hokkaido/ebetsu-shi-01217/light-garden-37080/104', '/properties/monthly/hokkaido/ebetsu-shi-01217/light-garden-37080/106', '/properties/monthly/hokkaido/ebetsu-shi-01217/light-garden-37080/107', '/properties/monthly/hokkaido/ebetsu-shi-01217/light-garden-37080/201', '/properties/monthly/hokkaido/ebetsu-shi-01217/light-garden-37080/202', '/properties/monthly/hokkaido/ebetsu-shi-01217/light-garden-37080/203', '/properties/monthly/hokkaido/ebetsu-shi-01217/light-garden-37080/204', '/properties/monthly/hokkaido/ebetsu-shi-01217/light-garden-37080/206']"
   ]
  }
 ],
 "metadata": {
  "kernelspec": {
   "display_name": "scrap",
   "language": "python",
   "name": "python3"
  },
  "language_info": {
   "codemirror_mode": {
    "name": "ipython",
    "version": 3
   },
   "file_extension": ".py",
   "mimetype": "text/x-python",
   "name": "python",
   "nbconvert_exporter": "python",
   "pygments_lexer": "ipython3",
   "version": "3.11.13"
  }
 },
 "nbformat": 4,
 "nbformat_minor": 5
}
