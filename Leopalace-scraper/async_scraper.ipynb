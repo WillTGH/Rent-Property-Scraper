{
 "cells": [
  {
   "cell_type": "code",
   "execution_count": 2,
   "id": "58cbb1cc",
   "metadata": {},
   "outputs": [],
   "source": [
    "import os\n",
    "import json\n",
    "import asyncio\n",
    "import nest_asyncio\n",
    "import numpy as np\n",
    "import pandas as pd\n",
    "import time, random\n",
    "import aiohttp\n",
    "from tqdm import tqdm\n",
    "from lxml import html\n",
    "from concurrent.futures import ThreadPoolExecutor, as_completed"
   ]
  },
  {
   "cell_type": "code",
   "execution_count": 3,
   "id": "1a457fbf",
   "metadata": {},
   "outputs": [],
   "source": [
    "HEADERS = {\n",
    "    \"User-Agent\": \"Mozilla/5.0 (Windows NT 10.0; Win64; x64)\",\n",
    "    \"Accept-Language\": \"en-US,en;q=0.9\",\n",
    "}\n",
    "semaphore = asyncio.Semaphore(10)  # Limit concurrent requests"
   ]
  },
  {
   "cell_type": "code",
   "execution_count": 4,
   "id": "81bee434",
   "metadata": {},
   "outputs": [],
   "source": [
    "with open('site_urls.json', 'r') as f:\n",
    "    site_urls = json.load(f)\n",
    "\n",
    "with open('property_urls.json', 'r') as f:\n",
    "    property_urls = json.load(f)"
   ]
  },
  {
   "cell_type": "code",
   "execution_count": 5,
   "id": "6283ad18",
   "metadata": {},
   "outputs": [
    {
     "data": {
      "text/plain": [
       "['https://www.leopalace21.com',\n",
       " 'https://www.leopalace21.com/en/search/chintai/area',\n",
       " 'https://www.leopalace21.com/en/properties/chintai/area/PREFECTURE?page=']"
      ]
     },
     "execution_count": 5,
     "metadata": {},
     "output_type": "execute_result"
    }
   ],
   "source": [
    "site_urls['urls']"
   ]
  },
  {
   "cell_type": "code",
   "execution_count": 6,
   "id": "adb55bdc",
   "metadata": {},
   "outputs": [
    {
     "data": {
      "text/plain": [
       "['https://www.leopalace21.com/en/properties/common/hokkaido/ebetsu-shi-01217/bonita-dois-38530',\n",
       " 'https://www.leopalace21.com/en/properties/common/hokkaido/hakodate-shi-01202/shiawasenoie-17791',\n",
       " 'https://www.leopalace21.com/en/properties/common/hokkaido/hakodate-shi-01202/hakodate-22098',\n",
       " 'https://www.leopalace21.com/en/properties/common/hokkaido/asahikawa-shi-01204/nishimachi-dori-22990',\n",
       " 'https://www.leopalace21.com/en/properties/common/hokkaido/hokuto-shi-01236/dolce-k-y-20774']"
      ]
     },
     "execution_count": 6,
     "metadata": {},
     "output_type": "execute_result"
    }
   ],
   "source": [
    "property_urls['urls'][:5]"
   ]
  },
  {
   "cell_type": "markdown",
   "id": "6f49ba7f",
   "metadata": {},
   "source": [
    "ASYNC FUNCTIONS"
   ]
  },
  {
   "cell_type": "code",
   "execution_count": 145,
   "id": "5e7bee3e",
   "metadata": {},
   "outputs": [],
   "source": [
    "def query(tree):\n",
    "    label = tree.xpath('//ul[@class=\"LabelList_label-list__JZVeD\"]//text()')\n",
    "    label = list(dict.fromkeys(label))\n",
    "    \n",
    "    # query + data cleaning\n",
    "    data = [x for x in tree.xpath('//h1[@class=\"page_heading__9lqpn\"]//text()') if x.strip() != ''][:2]\n",
    "    name, unit = (data + [None, None])[:2]\n",
    "    data = [x for x in tree.xpath('//div[@class=\"Price_text-price__OJin9 Price_-normal__yaKpe Price_-responsive__iSQmE Price_-vertical__jGQ9Y\"]//text()') if x.strip() != '']\n",
    "    currency, cost, maintenance = (data + [None, None])[:3]\n",
    "    misc = [x for x in tree.xpath('//h2[@class=\"Heading_text__ihjGf Heading_-h2__ZjScF Heading_-black__oGzwX\"]/text() | //span[@class=\"TitleTextItem_text__4vy_f\"]//text()') if x.strip() != '、' and x.strip() != '-']\n",
    "    misc.remove('Highly recommended points') # remove unwanted text\n",
    "    misc = misc[:misc.index('Address')] # slice list to only include facilities before 'Address'\n",
    "    \n",
    "    facilities = [x for x in misc[: misc.index('Room Details')]]\n",
    "    room_details = [x for x in misc[misc.index('Room Details')+1 : misc.index('Miscellaneous costs')]]\n",
    "    misc_costs = [x for x in misc[misc.index('Miscellaneous costs')+1 : ]]\n",
    "    \n",
    "    details = {\n",
    "        'Label' : label,\n",
    "        'Name' : name,\n",
    "        'Unit' : unit,\n",
    "        'Currency' : currency,\n",
    "        'Cost' : cost,\n",
    "        'Maintanence' : maintenance,\n",
    "        'Map' : tree.xpath('//span[@class=\"Caption_caption__ex6T_\"]//@href')[0],\n",
    "        'Facilities' : facilities,\n",
    "        'Room Details' : room_details,\n",
    "        'Miscellaneous Costs' : misc_costs\n",
    "    }\n",
    "    return details\n",
    "\n",
    "async def scrape_data(instance, url):\n",
    "    url = site_urls['urls'][0] + url\n",
    "    print(f\"Scraping details from {url}\")\n",
    "    details = []\n",
    "    async with semaphore:\n",
    "        await asyncio.sleep(random.uniform(1.2, 3.3))\n",
    "        \n",
    "        try:\n",
    "            async with instance.get(url, headers=HEADERS, timeout=20) as response:\n",
    "                content = await response.text()\n",
    "                tree = html.fromstring(content)\n",
    "                details.append(query(tree))\n",
    "                # details = tree.xpath('//section[@class=\"Section_section-block__mDQ87\"]/div[@class=\"page_head-bar__LmpS8\"]//text()')\n",
    "            \n",
    "        except Exception as e:\n",
    "            print(f\"Error occurred while fetching {url}: {e}\")\n",
    "            details = {}\n",
    "            \n",
    "        return details\n",
    "\n",
    "async def fetch_property(instance, url):\n",
    "    \n",
    "    async with semaphore:\n",
    "        await asyncio.sleep(random.uniform(1.3, 2.7))\n",
    "        \n",
    "        try:\n",
    "            async with instance.get(url, headers=HEADERS, timeout=20) as response:\n",
    "                content = await response.text()\n",
    "                tree = html.fromstring(content)\n",
    "            \n",
    "                tasks = []\n",
    "                links = tree.xpath('//a[@class=\"RoomItem_link__RoXCn\"]/@href')\n",
    "                for url in links:\n",
    "                    tasks.append(scrape_data(instance, url))\n",
    "                \n",
    "                result = await asyncio.gather(*tasks)\n",
    "            \n",
    "        except Exception as e:\n",
    "            print(f\"Error occurred while fetching {url}: {e}\")\n",
    "            result = []\n",
    "            \n",
    "        return result[0]\n",
    "    \n",
    "async def main():\n",
    "    \n",
    "    async with aiohttp.ClientSession() as instance:\n",
    "        \n",
    "        tasks = []\n",
    "        for url in property_urls['urls'][:1]: \n",
    "            tasks.append(fetch_property(instance, url))\n",
    "        \n",
    "        results = await asyncio.gather(*tasks)\n",
    "        \n",
    "        # flaten_results = [item for sublist in results for item in sublist]\n",
    "        for i in results:\n",
    "            print(i)\n",
    "            "
   ]
  },
  {
   "cell_type": "code",
   "execution_count": 146,
   "id": "9b904cba",
   "metadata": {},
   "outputs": [
    {
     "name": "stdout",
     "output_type": "stream",
     "text": [
      "Scraping details from https://www.leopalace21.com/en/properties/chintai/hokkaido/ebetsu-shi-01217/bonita-dois-38530/101\n",
      "Scraping details from https://www.leopalace21.com/en/properties/chintai/hokkaido/ebetsu-shi-01217/bonita-dois-38530/105\n",
      "Scraping details from https://www.leopalace21.com/en/properties/chintai/hokkaido/ebetsu-shi-01217/bonita-dois-38530/109\n",
      "Scraping details from https://www.leopalace21.com/en/properties/chintai/hokkaido/ebetsu-shi-01217/bonita-dois-38530/201\n",
      "Scraping details from https://www.leopalace21.com/en/properties/chintai/hokkaido/ebetsu-shi-01217/bonita-dois-38530/202\n",
      "Scraping details from https://www.leopalace21.com/en/properties/chintai/hokkaido/ebetsu-shi-01217/bonita-dois-38530/203\n",
      "Scraping details from https://www.leopalace21.com/en/properties/chintai/hokkaido/ebetsu-shi-01217/bonita-dois-38530/204\n",
      "Scraping details from https://www.leopalace21.com/en/properties/chintai/hokkaido/ebetsu-shi-01217/bonita-dois-38530/205\n",
      "Scraping details from https://www.leopalace21.com/en/properties/chintai/hokkaido/ebetsu-shi-01217/bonita-dois-38530/208\n",
      "Scraping details from https://www.leopalace21.com/en/properties/monthly/hokkaido/ebetsu-shi-01217/bonita-dois-38530/101\n",
      "Scraping details from https://www.leopalace21.com/en/properties/monthly/hokkaido/ebetsu-shi-01217/bonita-dois-38530/105\n",
      "Scraping details from https://www.leopalace21.com/en/properties/monthly/hokkaido/ebetsu-shi-01217/bonita-dois-38530/109\n",
      "Scraping details from https://www.leopalace21.com/en/properties/monthly/hokkaido/ebetsu-shi-01217/bonita-dois-38530/201\n",
      "Scraping details from https://www.leopalace21.com/en/properties/monthly/hokkaido/ebetsu-shi-01217/bonita-dois-38530/202\n",
      "Scraping details from https://www.leopalace21.com/en/properties/monthly/hokkaido/ebetsu-shi-01217/bonita-dois-38530/203\n",
      "Scraping details from https://www.leopalace21.com/en/properties/monthly/hokkaido/ebetsu-shi-01217/bonita-dois-38530/204\n",
      "Scraping details from https://www.leopalace21.com/en/properties/monthly/hokkaido/ebetsu-shi-01217/bonita-dois-38530/205\n",
      "Scraping details from https://www.leopalace21.com/en/properties/monthly/hokkaido/ebetsu-shi-01217/bonita-dois-38530/208\n",
      "[{'Label': ['Online Consultation・Contract', 'Double Discount'], 'Name': 'leopalace Bonita Dois', 'Unit': 'Unit 101', 'Currency': '¥', 'Cost': '37,000', 'Maintanence': '（Maintenance Fee ¥4,000）', 'Map': 'https://www.google.com/maps/search/?api=1&query=43.061775%2C141.48653', 'Facilities': ['Facilities', 'Separated bath and toilet', 'Bathroom dryer', 'Washlet with warm water', 'Indoor washing machine place', 'Smartlock', 'Internet Compatible', 'LEONET', 'Hot-water supply', 'Flooring ', 'Bicycle parking area', 'Separated bath and toilet', 'Bathroom dryer', 'Washlet with warm water', 'Indoor washing machine place', 'Smartlock', 'Internet Compatible', 'LEONET', 'Hot-water supply', 'Flooring ', 'Bicycle parking area'], 'Room Details': ['Bunkyodai 51-5,Ebetsu-shi,Hokkai-do', 'Hakodate main line 「Shinrinkoenstation」walk 17 minutes\\nHakodate main line 「Oasastation」walk 21 minutes', '1K/23.18㎡', 'Available ', 'Wooden', '1/2', '18', 'None', '2 years ¥13,130 ~ ¥26,680', 'Directly-managed store: Owner \\nLender Partners: Intermediation ', 'Scheduled to leave', 'Apartment/Property Age: 17 Years（September 2008）', 'October 21 2025'], 'Miscellaneous Costs': ['¥16,500 (tax included)', '¥550/month (tax included)', '¥16,500 (tax included)', '¥41,800 (tax included)', '¥18,040 ~ ¥23,760（tax included）', '¥18,975 (tax included)', '100% to 120% of the usage fee (at the time of contract) / 10,000 JPY (every year after the second year)', 'From ¥3,630 per month (tax included)', '¥16,500 (tax included)', '¥550/month (tax included)', '¥16,500 (tax included)', '¥41,800 (tax included)', '¥18,040 ~ ¥23,760（tax included）', '¥18,975 (tax included)', '100% to 120% of the usage fee (at the time of contract) / 10,000 JPY (every year after the second year)', 'From ¥3,630 per month (tax included)']}]\n"
     ]
    }
   ],
   "source": [
    "nest_asyncio.apply()\n",
    "asyncio.run(main())"
   ]
  },
  {
   "cell_type": "code",
   "execution_count": 144,
   "id": "e8b0afbc",
   "metadata": {},
   "outputs": [],
   "source": [
    "async with aiohttp.ClientSession() as instance:\n",
    "    async with instance.get('https://www.leopalace21.com/en/properties/monthly/hokkaido/ebetsu-shi-01217/bonita-dois-38530/202', headers=HEADERS) as response:\n",
    "        content = await response.text()\n",
    "        tree = html.fromstring(content)\n",
    "        \n",
    "        # query\n",
    "        label = tree.xpath('//ul[@class=\"LabelList_label-list__JZVeD\"]//text()')\n",
    "        label = list(dict.fromkeys(label))\n",
    "        \n",
    "        name, unit = [x for x in tree.xpath('//h1[@class=\"page_heading__9lqpn\"]//text()') if x.strip() != '']\n",
    "        data = [x for x in tree.xpath('//div[@class=\"Price_text-price__OJin9 Price_-normal__yaKpe Price_-responsive__iSQmE Price_-vertical__jGQ9Y\"]//text()') if x.strip() != '']\n",
    "        currency, cost, maintenance = (data + [None, None])[:3]\n",
    "        misc = [x for x in tree.xpath('//h2[@class=\"Heading_text__ihjGf Heading_-h2__ZjScF Heading_-black__oGzwX\"]/text() | //span[@class=\"TitleTextItem_text__4vy_f\"]//text()') if x.strip() != '、' and x.strip() != '-']\n",
    "        misc.remove('Highly recommended points') # remove unwanted text\n",
    "        misc = misc[:misc.index('Address')] # slice list to only include facilities before 'Address'\n",
    "        \n",
    "        facilities = [x for x in misc[: misc.index('Room Details')]]\n",
    "        room_details = [x for x in misc[misc.index('Room Details')+1 : misc.index('Miscellaneous costs')]]\n",
    "        misc_costs = [x for x in misc[misc.index('Miscellaneous costs')+1 : ]]\n",
    "        \n",
    "        details = {\n",
    "            'Label' : label,\n",
    "            'Name' : name,\n",
    "            'Unit' : unit,\n",
    "            'Currency' : currency,\n",
    "            'Cost' : cost,\n",
    "            'Maintanence' : maintenance,\n",
    "            'Map' : tree.xpath('//span[@class=\"Caption_caption__ex6T_\"]//@href')[0],\n",
    "            'Facilities' : facilities,\n",
    "            'Room Details' : room_details,\n",
    "            'Miscellaneous Costs' : misc_costs\n",
    "        }"
   ]
  },
  {
   "cell_type": "code",
   "execution_count": 131,
   "id": "cc7dbc29",
   "metadata": {},
   "outputs": [
    {
     "data": {
      "text/plain": [
       "{'Label': ['Online Consultation・Contract', 'Double Discount'],\n",
       " 'Name': 'leopalace Bonita Dois',\n",
       " 'Unit': 'Unit 101',\n",
       " 'Currency': '¥',\n",
       " 'Cost': '37,000',\n",
       " 'Maintanence': '（Maintenance Fee ¥4,000）',\n",
       " 'Map': 'https://www.google.com/maps/search/?api=1&query=43.061775%2C141.48653',\n",
       " 'Facilities': ['Facilities',\n",
       "  'Separated bath and toilet',\n",
       "  'Bathroom dryer',\n",
       "  'Washlet with warm water',\n",
       "  'Indoor washing machine place',\n",
       "  'Smartlock',\n",
       "  'Internet Compatible',\n",
       "  'LEONET',\n",
       "  'Hot-water supply',\n",
       "  'Flooring ',\n",
       "  'Bicycle parking area',\n",
       "  'Separated bath and toilet',\n",
       "  'Bathroom dryer',\n",
       "  'Washlet with warm water',\n",
       "  'Indoor washing machine place',\n",
       "  'Smartlock',\n",
       "  'Internet Compatible',\n",
       "  'LEONET',\n",
       "  'Hot-water supply',\n",
       "  'Flooring ',\n",
       "  'Bicycle parking area'],\n",
       " 'Room Details': ['Bunkyodai 51-5,Ebetsu-shi,Hokkai-do',\n",
       "  'Hakodate main line 「Shinrinkoenstation」walk 17 minutes\\nHakodate main line 「Oasastation」walk 21 minutes',\n",
       "  '1K/23.18㎡',\n",
       "  'Available ',\n",
       "  'Wooden',\n",
       "  '1/2',\n",
       "  '18',\n",
       "  'None',\n",
       "  '2 years ¥13,130 ~ ¥26,680',\n",
       "  'Directly-managed store: Owner \\nLender Partners: Intermediation ',\n",
       "  'Scheduled to leave',\n",
       "  'Apartment/Property Age: 17 Years（September 2008）',\n",
       "  'October 21 2025'],\n",
       " 'Miscellaneous Costs': ['¥16,500 (tax included)',\n",
       "  '¥550/month (tax included)',\n",
       "  '¥16,500 (tax included)',\n",
       "  '¥41,800 (tax included)',\n",
       "  '¥18,040 ~ ¥23,760（tax included）',\n",
       "  '¥18,975 (tax included)',\n",
       "  '100% to 120% of the usage fee (at the time of contract) / 10,000 JPY (every year after the second year)',\n",
       "  'From ¥3,630 per month (tax included)',\n",
       "  '¥16,500 (tax included)',\n",
       "  '¥550/month (tax included)',\n",
       "  '¥16,500 (tax included)',\n",
       "  '¥41,800 (tax included)',\n",
       "  '¥18,040 ~ ¥23,760（tax included）',\n",
       "  '¥18,975 (tax included)',\n",
       "  '100% to 120% of the usage fee (at the time of contract) / 10,000 JPY (every year after the second year)',\n",
       "  'From ¥3,630 per month (tax included)']}"
      ]
     },
     "execution_count": 131,
     "metadata": {},
     "output_type": "execute_result"
    }
   ],
   "source": [
    "details"
   ]
  },
  {
   "cell_type": "code",
   "execution_count": null,
   "id": "9bbe6309",
   "metadata": {},
   "outputs": [],
   "source": []
  }
 ],
 "metadata": {
  "kernelspec": {
   "display_name": "scrap",
   "language": "python",
   "name": "python3"
  },
  "language_info": {
   "codemirror_mode": {
    "name": "ipython",
    "version": 3
   },
   "file_extension": ".py",
   "mimetype": "text/x-python",
   "name": "python",
   "nbconvert_exporter": "python",
   "pygments_lexer": "ipython3",
   "version": "3.11.13"
  }
 },
 "nbformat": 4,
 "nbformat_minor": 5
}
