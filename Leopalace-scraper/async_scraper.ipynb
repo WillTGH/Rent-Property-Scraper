{
 "cells": [
  {
   "cell_type": "code",
   "execution_count": 65,
   "id": "1c129d0d",
   "metadata": {},
   "outputs": [],
   "source": [
    "!playwright install chromium"
   ]
  },
  {
   "cell_type": "code",
   "execution_count": 66,
   "id": "58cbb1cc",
   "metadata": {},
   "outputs": [],
   "source": [
    "import os\n",
    "import json\n",
    "import asyncio\n",
    "import nest_asyncio\n",
    "import numpy as np\n",
    "import pandas as pd\n",
    "import time, random\n",
    "import aiohttp\n",
    "from tqdm import tqdm\n",
    "from lxml import html\n",
    "from concurrent.futures import ThreadPoolExecutor, as_completed"
   ]
  },
  {
   "cell_type": "code",
   "execution_count": 67,
   "id": "1a457fbf",
   "metadata": {},
   "outputs": [],
   "source": [
    "HEADERS = {\n",
    "    \"User-Agent\": \"Mozilla/5.0 (Windows NT 10.0; Win64; x64)\",\n",
    "    \"Accept-Language\": \"en-US,en;q=0.9\",\n",
    "}\n",
    "semaphore = asyncio.Semaphore(10)  # Limit concurrent requests"
   ]
  },
  {
   "cell_type": "code",
   "execution_count": 68,
   "id": "81bee434",
   "metadata": {},
   "outputs": [],
   "source": [
    "with open('site_urls.json', 'r') as f:\n",
    "    site_urls = json.load(f)\n",
    "\n",
    "with open('property_urls.json', 'r') as f:\n",
    "    property_urls = json.load(f)"
   ]
  },
  {
   "cell_type": "code",
   "execution_count": 69,
   "id": "6283ad18",
   "metadata": {},
   "outputs": [
    {
     "data": {
      "text/plain": [
       "['https://www.leopalace21.com',\n",
       " 'https://www.leopalace21.com/en/search/chintai/area',\n",
       " 'https://www.leopalace21.com/en/properties/chintai/area/PREFECTURE?page=']"
      ]
     },
     "execution_count": 69,
     "metadata": {},
     "output_type": "execute_result"
    }
   ],
   "source": [
    "site_urls['urls']"
   ]
  },
  {
   "cell_type": "code",
   "execution_count": 70,
   "id": "adb55bdc",
   "metadata": {},
   "outputs": [
    {
     "data": {
      "text/plain": [
       "['https://www.leopalace21.com/en/properties/common/hokkaido/ebetsu-shi-01217/bonita-dois-38530',\n",
       " 'https://www.leopalace21.com/en/properties/common/hokkaido/hakodate-shi-01202/shiawasenoie-17791',\n",
       " 'https://www.leopalace21.com/en/properties/common/hokkaido/hakodate-shi-01202/hakodate-22098',\n",
       " 'https://www.leopalace21.com/en/properties/common/hokkaido/asahikawa-shi-01204/nishimachi-dori-22990',\n",
       " 'https://www.leopalace21.com/en/properties/common/hokkaido/hokuto-shi-01236/dolce-k-y-20774']"
      ]
     },
     "execution_count": 70,
     "metadata": {},
     "output_type": "execute_result"
    }
   ],
   "source": [
    "property_urls['urls'][:5]"
   ]
  },
  {
   "cell_type": "markdown",
   "id": "6f49ba7f",
   "metadata": {},
   "source": [
    "ASYNC FUNCTIONS"
   ]
  },
  {
   "cell_type": "code",
   "execution_count": 93,
   "id": "5e7bee3e",
   "metadata": {},
   "outputs": [],
   "source": [
    "async def scrape_data(instance, url):\n",
    "    url = site_urls['urls'][0] + url\n",
    "    print(f\"Scraping details from {url}\")\n",
    "    async with semaphore:\n",
    "        await asyncio.sleep(random.uniform(1.2, 3.3))\n",
    "        \n",
    "        try:\n",
    "            async with instance.get(url, headers=HEADERS, timeout=20) as response:\n",
    "                content = await response.text()\n",
    "                tree = html.fromstring(content)\n",
    "                details = tree.xpath('//section[@class=\"Section_section-block__mDQ87\"]/div[@class=\"page_head-bar__LmpS8\"]//text()')\n",
    "            \n",
    "        except Exception as e:\n",
    "            print(f\"Error occurred while fetching {url}: {e}\")\n",
    "            details = []\n",
    "            \n",
    "        return details\n",
    "\n",
    "async def fetch_property(instance, url):\n",
    "    \n",
    "    async with semaphore:\n",
    "        await asyncio.sleep(random.uniform(1.3, 2.7))\n",
    "        \n",
    "        try:\n",
    "            async with instance.get(url, headers=HEADERS, timeout=20) as response:\n",
    "                content = await response.text()\n",
    "                tree = html.fromstring(content)\n",
    "            \n",
    "                tasks = []\n",
    "                links = tree.xpath('//a[@class=\"RoomItem_link__RoXCn\"]/@href')\n",
    "                for url in links:\n",
    "                    tasks.append(scrape_data(instance, url))\n",
    "                \n",
    "                result = await asyncio.gather(*tasks)\n",
    "            \n",
    "        except Exception as e:\n",
    "            print(f\"Error occurred while fetching {url}: {e}\")\n",
    "            result = []\n",
    "            \n",
    "        return result\n",
    "    \n",
    "async def main():\n",
    "    \n",
    "    async with aiohttp.ClientSession() as instance:\n",
    "        \n",
    "        tasks = []\n",
    "        for url in property_urls['urls'][:1]: \n",
    "            tasks.append(fetch_property(instance, url))\n",
    "        \n",
    "        results = await asyncio.gather(*tasks)\n",
    "        \n",
    "        # flaten_results = [item for sublist in results for item in sublist]\n",
    "        for i in results:\n",
    "            print(i)\n",
    "            "
   ]
  },
  {
   "cell_type": "code",
   "execution_count": 94,
   "id": "9b904cba",
   "metadata": {},
   "outputs": [
    {
     "name": "stdout",
     "output_type": "stream",
     "text": [
      "Scraping details from https://www.leopalace21.com/en/properties/chintai/hokkaido/ebetsu-shi-01217/bonita-dois-38530/101\n",
      "Scraping details from https://www.leopalace21.com/en/properties/chintai/hokkaido/ebetsu-shi-01217/bonita-dois-38530/105\n",
      "Scraping details from https://www.leopalace21.com/en/properties/chintai/hokkaido/ebetsu-shi-01217/bonita-dois-38530/109\n",
      "Scraping details from https://www.leopalace21.com/en/properties/chintai/hokkaido/ebetsu-shi-01217/bonita-dois-38530/201\n",
      "Scraping details from https://www.leopalace21.com/en/properties/chintai/hokkaido/ebetsu-shi-01217/bonita-dois-38530/202\n",
      "Scraping details from https://www.leopalace21.com/en/properties/chintai/hokkaido/ebetsu-shi-01217/bonita-dois-38530/203\n",
      "Scraping details from https://www.leopalace21.com/en/properties/chintai/hokkaido/ebetsu-shi-01217/bonita-dois-38530/204\n",
      "Scraping details from https://www.leopalace21.com/en/properties/chintai/hokkaido/ebetsu-shi-01217/bonita-dois-38530/205\n",
      "Scraping details from https://www.leopalace21.com/en/properties/chintai/hokkaido/ebetsu-shi-01217/bonita-dois-38530/208\n",
      "Scraping details from https://www.leopalace21.com/en/properties/monthly/hokkaido/ebetsu-shi-01217/bonita-dois-38530/101\n",
      "Scraping details from https://www.leopalace21.com/en/properties/monthly/hokkaido/ebetsu-shi-01217/bonita-dois-38530/105\n",
      "Scraping details from https://www.leopalace21.com/en/properties/monthly/hokkaido/ebetsu-shi-01217/bonita-dois-38530/109\n",
      "Scraping details from https://www.leopalace21.com/en/properties/monthly/hokkaido/ebetsu-shi-01217/bonita-dois-38530/201\n",
      "Scraping details from https://www.leopalace21.com/en/properties/monthly/hokkaido/ebetsu-shi-01217/bonita-dois-38530/202\n",
      "Scraping details from https://www.leopalace21.com/en/properties/monthly/hokkaido/ebetsu-shi-01217/bonita-dois-38530/203\n",
      "Scraping details from https://www.leopalace21.com/en/properties/monthly/hokkaido/ebetsu-shi-01217/bonita-dois-38530/204\n",
      "Scraping details from https://www.leopalace21.com/en/properties/monthly/hokkaido/ebetsu-shi-01217/bonita-dois-38530/205\n",
      "Scraping details from https://www.leopalace21.com/en/properties/monthly/hokkaido/ebetsu-shi-01217/bonita-dois-38530/208\n",
      "[['Online Consultation・Contract', 'Double Discount', 'leopalace Bonita Dois', ' ', 'Unit 101', '¥', '37,000', '（Maintenance Fee ¥4,000）', 'Check Initial costs', 'Brokerage fee', 'Not required', 'Security Deposit/Deposit', 'Not required', '/', 'Not required', 'Non-refundable Restoration Fee', 'Not required', 'Key money', 'Not required'], ['Online Consultation・Contract', 'Double Discount', 'leopalace Bonita Dois', ' ', 'Unit 105', '¥', '36,000', '（Maintenance Fee ¥4,000）', 'Check Initial costs', 'Brokerage fee', 'Not required', 'Security Deposit/Deposit', 'Not required', '/', 'Not required', 'Non-refundable Restoration Fee', 'Not required', 'Key money', 'Not required'], ['Online Consultation・Contract', 'Double Discount', 'leopalace Bonita Dois', ' ', 'Unit 109', '¥', '37,000', '（Maintenance Fee ¥4,000）', 'Check Initial costs', 'Brokerage fee', 'Not required', 'Security Deposit/Deposit', 'Not required', '/', 'Not required', 'Non-refundable Restoration Fee', 'Not required', 'Key money', 'Not required'], ['Online Consultation・Contract', 'Double Discount', 'leopalace Bonita Dois', ' ', 'Unit 201', '¥', '39,000', '（Maintenance Fee ¥4,000）', 'Check Initial costs', 'Brokerage fee', 'Not required', 'Security Deposit/Deposit', 'Not required', '/', 'Not required', 'Non-refundable Restoration Fee', 'Not required', 'Key money', 'Not required'], ['Online Consultation・Contract', 'Only for individual contract', 'Double Discount', 'leopalace Bonita Dois', ' ', 'Unit 202', '¥', '29,000', '（Maintenance Fee ¥4,000）', 'Check Initial costs', 'Brokerage fee', 'Not required', 'Security Deposit/Deposit', 'Not required', '/', 'Not required', 'Non-refundable Restoration Fee', 'Not required', 'Key money', 'Not required'], ['Online Consultation・Contract', 'Only for individual contract', 'Double Discount', 'leopalace Bonita Dois', ' ', 'Unit 203', '¥', '29,000', '（Maintenance Fee ¥4,000）', 'Check Initial costs', 'Brokerage fee', 'Not required', 'Security Deposit/Deposit', 'Not required', '/', 'Not required', 'Non-refundable Restoration Fee', 'Not required', 'Key money', 'Not required'], ['Online Consultation・Contract', 'Double Discount', 'leopalace Bonita Dois', ' ', 'Unit 204', '¥', '38,000', '（Maintenance Fee ¥4,000）', 'Check Initial costs', 'Brokerage fee', 'Not required', 'Security Deposit/Deposit', 'Not required', '/', 'Not required', 'Non-refundable Restoration Fee', 'Not required', 'Key money', 'Not required'], ['Online Consultation・Contract', 'Double Discount', 'leopalace Bonita Dois', ' ', 'Unit 205', '¥', '38,000', '（Maintenance Fee ¥4,000）', 'Check Initial costs', 'Brokerage fee', 'Not required', 'Security Deposit/Deposit', 'Not required', '/', 'Not required', 'Non-refundable Restoration Fee', 'Not required', 'Key money', 'Not required'], ['Online Consultation・Contract', 'Double Discount', 'leopalace Bonita Dois', ' ', 'Unit 208', '¥', '38,000', '（Maintenance Fee ¥4,000）', 'Check Initial costs', 'Brokerage fee', 'Not required', 'Security Deposit/Deposit', 'Not required', '/', 'Not required', 'Non-refundable Restoration Fee', 'Not required', 'Key money', 'Not required'], ['Online Consultation・Contract', 'leopalace Bonita Dois', ' ', 'Unit 101', '¥', '136,400', ' ', '/ ', '30 days', '¥4,546 per day', '・', 'E rank', 'Change the usage period', 'Check Initial costs'], ['Online Consultation・Contract', 'leopalace Bonita Dois', ' ', 'Unit 105', '¥', '136,400', ' ', '/ ', '30 days', '¥4,546 per day', '・', 'E rank', 'Change the usage period', 'Check Initial costs'], ['Online Consultation・Contract', 'leopalace Bonita Dois', ' ', 'Unit 109', '¥', '136,400', ' ', '/ ', '30 days', '¥4,546 per day', '・', 'E rank', 'Change the usage period', 'Check Initial costs'], ['Online Consultation・Contract', 'leopalace Bonita Dois', ' ', 'Unit 201', '¥', '136,400', ' ', '/ ', '30 days', '¥4,546 per day', '・', 'E rank', 'Change the usage period', 'Check Initial costs'], ['Online Consultation・Contract', 'Only for individual contract', 'leopalace Bonita Dois', ' ', 'Unit 202', '¥', '124,300', ' ', '/ ', '30 days', '¥4,143 per day', '・', 'C rank', 'Change the usage period', 'Check Initial costs'], ['Online Consultation・Contract', 'Only for individual contract', 'leopalace Bonita Dois', ' ', 'Unit 203', '¥', '124,300', ' ', '/ ', '30 days', '¥4,143 per day', '・', 'C rank', 'Change the usage period', 'Check Initial costs'], ['Online Consultation・Contract', 'leopalace Bonita Dois', ' ', 'Unit 204', '¥', '136,400', ' ', '/ ', '30 days', '¥4,546 per day', '・', 'E rank', 'Change the usage period', 'Check Initial costs'], ['Online Consultation・Contract', 'leopalace Bonita Dois', ' ', 'Unit 205', '¥', '136,400', ' ', '/ ', '30 days', '¥4,546 per day', '・', 'E rank', 'Change the usage period', 'Check Initial costs'], ['Online Consultation・Contract', 'leopalace Bonita Dois', ' ', 'Unit 208', '¥', '136,400', ' ', '/ ', '30 days', '¥4,546 per day', '・', 'E rank', 'Change the usage period', 'Check Initial costs']]\n"
     ]
    }
   ],
   "source": [
    "nest_asyncio.apply()\n",
    "asyncio.run(main())"
   ]
  },
  {
   "cell_type": "code",
   "execution_count": null,
   "id": "e8b0afbc",
   "metadata": {},
   "outputs": [],
   "source": [
    "async with aiohttp.ClientSession() as instance:\n",
    "    async with instance.get('https://www.leopalace21.com/en/properties/chintai/hokkaido/ebetsu-shi-01217/bonita-dois-38530/101', headers=HEADERS) as response:\n",
    "        content = await response.text()\n",
    "        tree = html.fromstring(content)\n",
    "        details = {\n",
    "            'Label' : tree.xpath('//section[@class=\"Section_section-block__mDQ87\"]/div[@class=\"page_head-bar__LmpS8\"]//ul[@class=\"LabelList_label-list__JZVeD\"]//text()'),\n",
    "            'Name' : [x for x in tree.xpath('//section[@class=\"Section_section-block__mDQ87\"]/div[@class=\"page_head-bar__LmpS8\"]//h1[@class=\"page_heading__9lqpn\"]//text()') if x.strip() != ''][0],\n",
    "        }"
   ]
  },
  {
   "cell_type": "code",
   "execution_count": 123,
   "id": "cc7dbc29",
   "metadata": {},
   "outputs": [
    {
     "data": {
      "text/plain": [
       "{'Label': ['Online Consultation・Contract', 'Double Discount'],\n",
       " 'Name': 'leopalace Bonita Dois'}"
      ]
     },
     "execution_count": 123,
     "metadata": {},
     "output_type": "execute_result"
    }
   ],
   "source": [
    "details"
   ]
  },
  {
   "cell_type": "code",
   "execution_count": null,
   "id": "9bbe6309",
   "metadata": {},
   "outputs": [],
   "source": []
  }
 ],
 "metadata": {
  "kernelspec": {
   "display_name": "scrap",
   "language": "python",
   "name": "python3"
  },
  "language_info": {
   "codemirror_mode": {
    "name": "ipython",
    "version": 3
   },
   "file_extension": ".py",
   "mimetype": "text/x-python",
   "name": "python",
   "nbconvert_exporter": "python",
   "pygments_lexer": "ipython3",
   "version": "3.11.13"
  }
 },
 "nbformat": 4,
 "nbformat_minor": 5
}
