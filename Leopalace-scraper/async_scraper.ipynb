{
 "cells": [
  {
   "cell_type": "code",
   "execution_count": 35,
   "id": "1c129d0d",
   "metadata": {},
   "outputs": [],
   "source": [
    "!playwright install chromium"
   ]
  },
  {
   "cell_type": "code",
   "execution_count": 36,
   "id": "58cbb1cc",
   "metadata": {},
   "outputs": [],
   "source": [
    "import os\n",
    "import json\n",
    "import asyncio\n",
    "import nest_asyncio\n",
    "import numpy as np\n",
    "import pandas as pd\n",
    "import time, random\n",
    "from tqdm import tqdm\n",
    "from lxml import html\n",
    "from playwright.async_api import async_playwright\n",
    "from concurrent.futures import ThreadPoolExecutor, as_completed"
   ]
  },
  {
   "cell_type": "code",
   "execution_count": 37,
   "id": "81bee434",
   "metadata": {},
   "outputs": [],
   "source": [
    "with open('site_urls.json', 'r') as f:\n",
    "    site_urls = json.load(f)\n",
    "\n",
    "with open('property_urls.json', 'r') as f:\n",
    "    property_urls = json.load(f)"
   ]
  },
  {
   "cell_type": "code",
   "execution_count": 38,
   "id": "6283ad18",
   "metadata": {},
   "outputs": [
    {
     "data": {
      "text/plain": [
       "['https://www.leopalace21.com',\n",
       " 'https://www.leopalace21.com/en',\n",
       " 'https://www.leopalace21.com/en/search/chintai/area',\n",
       " 'https://www.leopalace21.com/en/properties/chintai/area/PREFECTURE?page=']"
      ]
     },
     "execution_count": 38,
     "metadata": {},
     "output_type": "execute_result"
    }
   ],
   "source": [
    "site_urls['urls']"
   ]
  },
  {
   "cell_type": "code",
   "execution_count": 39,
   "id": "adb55bdc",
   "metadata": {},
   "outputs": [
    {
     "data": {
      "text/plain": [
       "['https://www.leopalace21.com/en/properties/common/hokkaido/ebetsu-shi-01217/light-garden-37080',\n",
       " 'https://www.leopalace21.com/en/properties/common/hokkaido/ebetsu-shi-01217/montmartre-no-oka-38198',\n",
       " 'https://www.leopalace21.com/en/properties/common/hokkaido/hakodate-shi-01202/hakodate-22098',\n",
       " 'https://www.leopalace21.com/en/properties/common/hokkaido/hakodate-shi-01202/himawari-2-23510',\n",
       " 'https://www.leopalace21.com/en/properties/common/hokkaido/hokuto-shi-01236/dolce-k-y-20774']"
      ]
     },
     "execution_count": 39,
     "metadata": {},
     "output_type": "execute_result"
    }
   ],
   "source": [
    "property_urls['urls'][:5]"
   ]
  },
  {
   "cell_type": "markdown",
   "id": "d3af3272",
   "metadata": {},
   "source": [
    "NORMAL FUNCTION"
   ]
  },
  {
   "cell_type": "code",
   "execution_count": 40,
   "id": "30b844e7",
   "metadata": {},
   "outputs": [],
   "source": [
    "def query_details(tree, xpath):\n",
    "    return"
   ]
  },
  {
   "cell_type": "markdown",
   "id": "6f49ba7f",
   "metadata": {},
   "source": [
    "ASYNC FUNCTIONS"
   ]
  },
  {
   "cell_type": "code",
   "execution_count": 66,
   "id": "5e7bee3e",
   "metadata": {},
   "outputs": [],
   "source": [
    "async def scrape_data(browser, url):\n",
    "    page = await browser.new_page()\n",
    "    url = site_urls['urls'][1] + url\n",
    "    await page.goto(url, wait_until='domcontentloaded', timeout=60000)\n",
    "    content = await page.content()\n",
    "    tree = html.fromstring(content)\n",
    "    \n",
    "    details = tree.xpath('//div[@class=\"page_head-bar__lmpS8\"]//text()')\n",
    "    return details\n",
    "\n",
    "async def fetch_property(client, url):\n",
    "    browser = await client.chromium.launch(headless=True)\n",
    "    page = await browser.new_page()\n",
    "    await page.goto(url)\n",
    "    content = await page.content()\n",
    "    tree = html.fromstring(content)\n",
    "    \n",
    "    tasks = []\n",
    "    links = tree.xpath('//a[@class=\"RoomItem_link__RoXCn\"]/@href')\n",
    "    for url in links:\n",
    "        tasks.append(scrape_data(browser, url))\n",
    "        \n",
    "    result = await asyncio.gather(*tasks)\n",
    "    return result\n",
    "    \n",
    "async def main():\n",
    "    async with async_playwright() as client:\n",
    "        tasks = []\n",
    "        for url in property_urls['urls'][:3]:\n",
    "            tasks.append(fetch_property(client, url))\n",
    "        \n",
    "        results = await asyncio.gather(*tasks)\n",
    "        # flaten_results = [item for sublist in results for item in sublist]\n",
    "        for i in results:\n",
    "            print(i)\n",
    "            "
   ]
  },
  {
   "cell_type": "code",
   "execution_count": null,
   "id": "9b904cba",
   "metadata": {},
   "outputs": [],
   "source": [
    "nest_asyncio.apply()\n",
    "asyncio.run(main())"
   ]
  },
  {
   "cell_type": "markdown",
   "id": "1d875aca",
   "metadata": {},
   "source": [
    "['/properties/chintai/hokkaido/ebetsu-shi-01217/light-garden-37080/101', '/properties/chintai/hokkaido/ebetsu-shi-01217/light-garden-37080/103', '/properties/chintai/hokkaido/ebetsu-shi-01217/light-garden-37080/104', '/properties/chintai/hokkaido/ebetsu-shi-01217/light-garden-37080/106', '/properties/chintai/hokkaido/ebetsu-shi-01217/light-garden-37080/107', '/properties/chintai/hokkaido/ebetsu-shi-01217/light-garden-37080/201', '/properties/chintai/hokkaido/ebetsu-shi-01217/light-garden-37080/202', '/properties/chintai/hokkaido/ebetsu-shi-01217/light-garden-37080/203', '/properties/chintai/hokkaido/ebetsu-shi-01217/light-garden-37080/204', '/properties/chintai/hokkaido/ebetsu-shi-01217/light-garden-37080/206', '/properties/monthly/hokkaido/ebetsu-shi-01217/light-garden-37080/101', '/properties/monthly/hokkaido/ebetsu-shi-01217/light-garden-37080/103', '/properties/monthly/hokkaido/ebetsu-shi-01217/light-garden-37080/104', '/properties/monthly/hokkaido/ebetsu-shi-01217/light-garden-37080/106', '/properties/monthly/hokkaido/ebetsu-shi-01217/light-garden-37080/107', '/properties/monthly/hokkaido/ebetsu-shi-01217/light-garden-37080/201', '/properties/monthly/hokkaido/ebetsu-shi-01217/light-garden-37080/202', '/properties/monthly/hokkaido/ebetsu-shi-01217/light-garden-37080/203', '/properties/monthly/hokkaido/ebetsu-shi-01217/light-garden-37080/204', '/properties/monthly/hokkaido/ebetsu-shi-01217/light-garden-37080/206']"
   ]
  }
 ],
 "metadata": {
  "kernelspec": {
   "display_name": "scrap",
   "language": "python",
   "name": "python3"
  },
  "language_info": {
   "codemirror_mode": {
    "name": "ipython",
    "version": 3
   },
   "file_extension": ".py",
   "mimetype": "text/x-python",
   "name": "python",
   "nbconvert_exporter": "python",
   "pygments_lexer": "ipython3",
   "version": "3.11.13"
  }
 },
 "nbformat": 4,
 "nbformat_minor": 5
}
