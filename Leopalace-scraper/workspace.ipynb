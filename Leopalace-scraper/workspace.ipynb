{
 "cells": [
  {
   "cell_type": "code",
   "execution_count": 1,
   "id": "79113bc7",
   "metadata": {},
   "outputs": [],
   "source": [
    "import re\n",
    "import json\n",
    "import requests\n",
    "import numpy as np\n",
    "import pandas as pd\n",
    "import time, random\n",
    "from tqdm import tqdm\n",
    "from bs4 import BeautifulSoup\n",
    "from requests_html import AsyncHTMLSession, HTMLSession\n",
    "from concurrent.futures import ThreadPoolExecutor, as_completed"
   ]
  },
  {
   "cell_type": "code",
   "execution_count": 2,
   "id": "85e4fbe6",
   "metadata": {},
   "outputs": [],
   "source": [
    "class scrapper():\n",
    "    def __init__(self, url):\n",
    "        self.domain = 'https://www.leopalace21.com'\n",
    "        self.url = url\n",
    "        self.headers = {\n",
    "            \"User-Agent\": \"Mozilla/5.0 (Windows NT 10.0; Win64; x64)\",\n",
    "            \"Accept-Language\": \"en-US,en;q=0.9\"\n",
    "        }\n",
    "        self.session = HTMLSession()\n",
    "        self.html = self.session.get(self.url, headers=self.headers, timeout=10) # take html from the site\n",
    "        self.soup = BeautifulSoup(self.html.content, 'html.parser') # parse html with BeautifulSoup\n",
    "    \n",
    "    def change_url(self, new_url): # change url\n",
    "        self.url = new_url\n",
    "        self.html = self.session.get(self.url, headers=self.headers, timeout=10) # take html from the site\n",
    "        self.soup = BeautifulSoup(self.html.content, 'html.parser') # parse html with BeautifulSoup\n",
    "        \n",
    "    def print_html(self): # print formatted html\n",
    "        print(self.soup.prettify())\n",
    "        \n",
    "    def print_data(self): # print non html\n",
    "        for x in self.soup:\n",
    "            print(x)"
   ]
  },
  {
   "cell_type": "code",
   "execution_count": 3,
   "id": "a012bf43",
   "metadata": {},
   "outputs": [],
   "source": [
    "def target_element(soup, tag, class_name): # first matching element\n",
    "        if class_name is None:\n",
    "            return soup.find(tag)\n",
    "        return soup.find(tag, class_=class_name)\n",
    "        \n",
    "def target_element_all(soup, tag, class_name): # all matching elements\n",
    "    if class_name is None:\n",
    "        return soup.find_all(tag)\n",
    "    return soup.find_all(tag, class_=class_name)\n",
    "\n",
    "def target_element_css(soup, css_selector): # css selector\n",
    "    return soup.select_one(css_selector)\n",
    "    \n",
    "def target_element_text(soup): # search by text\n",
    "    return [data.get_text() for data in soup]\n",
    "\n",
    "def retry_with_backoff(attempt): # retry after failed connection\n",
    "    wait_time = min(60, (2 ** attempt) + random.uniform(0, 1))\n",
    "    time.sleep(wait_time)\n",
    "\n",
    "def fetch_property_link(base_url, page_num, domain, headers):\n",
    "    url = f\"{base_url}{page_num}\"\n",
    "    try:\n",
    "        r = scrapper(url)\n",
    "        soup = target_element_all(r.soup, 'a', 'ApartmentItemDetails_apartment-item-details__pn2sc ApartmentItemDetails_-responsive__ZRuEF')\n",
    "        time.sleep(random.uniform(0.5, 2))  # sleep between 0.5 to 2 seconds\n",
    "        return [domain + link['href'] for link in soup]\n",
    "    except Exception as e:\n",
    "        retry_with_backoff(3)\n",
    "        return []"
   ]
  },
  {
   "cell_type": "code",
   "execution_count": 4,
   "id": "7cc1249a",
   "metadata": {},
   "outputs": [],
   "source": [
    "crawler = scrapper('https://www.leopalace21.com/en/properties/common/hyogo/himeji-shi-28201/com-igret-b-14042')"
   ]
  },
  {
   "cell_type": "code",
   "execution_count": 5,
   "id": "bc8ca3f0",
   "metadata": {},
   "outputs": [
    {
     "data": {
      "text/plain": [
       "[<a class=\"RoomItem_link__RoXCn\" href=\"/en/properties/chintai/hyogo/himeji-shi-28201/com-igret-b-14042/102\" target=\"_blank\"></a>,\n",
       " <a class=\"RoomItem_link__RoXCn\" href=\"/en/properties/chintai/hyogo/himeji-shi-28201/com-igret-b-14042/105\" target=\"_blank\"></a>,\n",
       " <a class=\"RoomItem_link__RoXCn\" href=\"/en/properties/chintai/hyogo/himeji-shi-28201/com-igret-b-14042/106\" target=\"_blank\"></a>,\n",
       " <a class=\"RoomItem_link__RoXCn\" href=\"/en/properties/chintai/hyogo/himeji-shi-28201/com-igret-b-14042/108\" target=\"_blank\"></a>,\n",
       " <a class=\"RoomItem_link__RoXCn\" href=\"/en/properties/chintai/hyogo/himeji-shi-28201/com-igret-b-14042/109\" target=\"_blank\"></a>,\n",
       " <a class=\"RoomItem_link__RoXCn\" href=\"/en/properties/chintai/hyogo/himeji-shi-28201/com-igret-b-14042/110\" target=\"_blank\"></a>,\n",
       " <a class=\"RoomItem_link__RoXCn\" href=\"/en/properties/monthly/hyogo/himeji-shi-28201/com-igret-b-14042/102\" target=\"_blank\"></a>,\n",
       " <a class=\"RoomItem_link__RoXCn\" href=\"/en/properties/monthly/hyogo/himeji-shi-28201/com-igret-b-14042/106\" target=\"_blank\"></a>,\n",
       " <a class=\"RoomItem_link__RoXCn\" href=\"/en/properties/monthly/hyogo/himeji-shi-28201/com-igret-b-14042/109\" target=\"_blank\"></a>]"
      ]
     },
     "execution_count": 5,
     "metadata": {},
     "output_type": "execute_result"
    }
   ],
   "source": [
    "property_info_page = list(target_element_all(crawler.soup, 'a', 'RoomItem_link__RoXCn'))\n",
    "\n",
    "property_info_page"
   ]
  },
  {
   "cell_type": "code",
   "execution_count": 6,
   "id": "6ad1ced8",
   "metadata": {},
   "outputs": [],
   "source": [
    "filtered = [item for item in property_info_page if not re.search(r\"\\bmonthly\\b\", item['href'], re.IGNORECASE)]"
   ]
  },
  {
   "cell_type": "code",
   "execution_count": 7,
   "id": "f5378e08",
   "metadata": {},
   "outputs": [
    {
     "data": {
      "text/plain": [
       "[<a class=\"RoomItem_link__RoXCn\" href=\"/en/properties/chintai/hyogo/himeji-shi-28201/com-igret-b-14042/102\" target=\"_blank\"></a>,\n",
       " <a class=\"RoomItem_link__RoXCn\" href=\"/en/properties/chintai/hyogo/himeji-shi-28201/com-igret-b-14042/105\" target=\"_blank\"></a>,\n",
       " <a class=\"RoomItem_link__RoXCn\" href=\"/en/properties/chintai/hyogo/himeji-shi-28201/com-igret-b-14042/106\" target=\"_blank\"></a>,\n",
       " <a class=\"RoomItem_link__RoXCn\" href=\"/en/properties/chintai/hyogo/himeji-shi-28201/com-igret-b-14042/108\" target=\"_blank\"></a>,\n",
       " <a class=\"RoomItem_link__RoXCn\" href=\"/en/properties/chintai/hyogo/himeji-shi-28201/com-igret-b-14042/109\" target=\"_blank\"></a>,\n",
       " <a class=\"RoomItem_link__RoXCn\" href=\"/en/properties/chintai/hyogo/himeji-shi-28201/com-igret-b-14042/110\" target=\"_blank\"></a>]"
      ]
     },
     "execution_count": 7,
     "metadata": {},
     "output_type": "execute_result"
    }
   ],
   "source": [
    "filtered"
   ]
  },
  {
   "cell_type": "code",
   "execution_count": 10,
   "id": "5704bbc9",
   "metadata": {},
   "outputs": [],
   "source": [
    "crawler.change_url(crawler.domain + filtered[0]['href'])"
   ]
  },
  {
   "cell_type": "code",
   "execution_count": 11,
   "id": "c529416f",
   "metadata": {},
   "outputs": [],
   "source": [
    "json_results = []\n",
    "chunk = []"
   ]
  },
  {
   "cell_type": "code",
   "execution_count": 12,
   "id": "d3bc78f0",
   "metadata": {},
   "outputs": [],
   "source": [
    "chunk.append({\"property name\": target_element(crawler.soup, 'h1', 'page_heading__9lqpn').get_text()})\n",
    "chunk.append({\"price\": target_element(crawler.soup, 'span', 'Price_price__6qQfX').get_text().replace(',', '')})\n",
    "chunk.append({\"maintanence\": re.sub(r\"[^0-9]\", \"\", target_element(crawler.soup, 'span', 'Price_expenses__2meeQ').get_text().replace(',', ''))})\n",
    "chunk.append({\"gmap\": target_element(crawler.soup, 'a', 'page_map-link__v6STN')['href']})"
   ]
  },
  {
   "cell_type": "code",
   "execution_count": 13,
   "id": "e6ceeb26",
   "metadata": {},
   "outputs": [],
   "source": [
    "brokerage_fee = target_element_all(crawler.soup, 'span', 'RequiredRentCost_text__QVPh6')\n",
    "brokerage_fee = target_element_text(brokerage_fee)\n",
    "# in order: brokerage fee, scecurity deposit/deposit, non-refundable restoration fee, key money"
   ]
  },
  {
   "cell_type": "code",
   "execution_count": 14,
   "id": "b4daf82c",
   "metadata": {},
   "outputs": [],
   "source": [
    "chunk.append({\"brokerage fee\":brokerage_fee[0]})\n",
    "chunk.append({\"scecurity deposit/deposit\":brokerage_fee[1]})\n",
    "chunk.append({\"non-refundable restoration fee\":brokerage_fee[2]})\n",
    "chunk.append({\"key money\":brokerage_fee[3]})"
   ]
  },
  {
   "cell_type": "code",
   "execution_count": 15,
   "id": "0e742e9d",
   "metadata": {},
   "outputs": [
    {
     "name": "stdout",
     "output_type": "stream",
     "text": [
      "Prefecture: hyogo, City: himeji-shi\n"
     ]
    }
   ],
   "source": [
    "match = re.search(r\"/properties/chintai/([^/]+)/([^/]+)/\", crawler.url)\n",
    "if match:\n",
    "    prefecture = match.group(1)\n",
    "    city = match.group(2)\n",
    "    \n",
    "    # remove post code\n",
    "    city = re.sub(r'-\\d+$', '', city)\n",
    "print(f\"Prefecture: {prefecture}, City: {city}\")"
   ]
  },
  {
   "cell_type": "code",
   "execution_count": 16,
   "id": "5ffbb71f",
   "metadata": {},
   "outputs": [
    {
     "data": {
      "text/plain": [
       "<div class=\"TitleTextItem_title-text-item__3dJO_ TitleTextItem_-vertical__rNWt_\"><p class=\"TitleTextItem_title__kkVCx\">Bathroom · Toilet</p><div class=\"TitleTextItem_pair__9wp5G\"><span class=\"TitleTextItem_text__4vy_f\">Separated bath and toilet<!-- -->、<!-- -->Washlet with warm water<!-- -->、<!-- -->Independent washbasin<!-- -->、<!-- -->Indoor washing machine place</span></div></div>"
      ]
     },
     "execution_count": 16,
     "metadata": {},
     "output_type": "execute_result"
    }
   ],
   "source": [
    "details = target_element_all(crawler.soup, 'div', 'TitleTextItem_title-text-item__3dJO_')\n",
    "details[0]\n"
   ]
  },
  {
   "cell_type": "code",
   "execution_count": 17,
   "id": "8b3502bd",
   "metadata": {},
   "outputs": [],
   "source": [
    "for detail in details:\n",
    "    \n",
    "    name = target_element( detail,'p', 'TitleTextItem_title__kkVCx')\n",
    "    value = target_element(detail, 'span', 'TitleTextItem_text__4vy_f')\n",
    "    if value == None:\n",
    "        continue\n",
    "    chunk.append({name.get_text(): value.get_text()})\n",
    "json_results.extend(chunk)"
   ]
  },
  {
   "cell_type": "code",
   "execution_count": 18,
   "id": "9053448d",
   "metadata": {},
   "outputs": [
    {
     "data": {
      "text/plain": [
       "[{'property name': 'leopalace Com・Igret B Unit 102'},\n",
       " {'price': '45000'},\n",
       " {'maintanence': '5000'},\n",
       " {'gmap': 'https://www.google.com/maps/search/?api=1&query=34.79809%2C134.62361'},\n",
       " {'brokerage fee': 'Not required'},\n",
       " {'scecurity deposit/deposit': 'Not required'},\n",
       " {'non-refundable restoration fee': 'Not required'},\n",
       " {'key money': 'Not required'},\n",
       " {'Bathroom · Toilet': 'Separated bath and toilet、Washlet with warm water、Independent washbasin、Indoor washing machine place'},\n",
       " {'Broadcasting・Communication': 'Internet Compatible、LEONET、CATV'},\n",
       " {'Others': 'Hot-water supply、Air conditioner、Bicycle parking area、Counter Kitechen 、Rental Parking'},\n",
       " {'Bathroom · Toilet': 'Separated bath and toilet、Washlet with warm water、Independent washbasin、Indoor washing machine place'},\n",
       " {'Broadcasting・Communication': 'Internet Compatible、LEONET、CATV'},\n",
       " {'Others': 'Hot-water supply、Air conditioner、Bicycle parking area、Counter Kitechen 、Rental Parking'},\n",
       " {'Address': 'Takahama-cho 2-55,Himeji-shi Hirohata-ku,Hyogo-ken'},\n",
       " {'Commute': 'Sanyodentetsuaboshi line 「Hirohatastation」walk 8 minutes'},\n",
       " {'Floor plan/Area size': '2DK/49.68㎡'},\n",
       " {'Home Furniture・Home appliances': 'Available '},\n",
       " {'Building structure': 'Lightweight Steel'},\n",
       " {'Floor/Number of Floors': '1/2'},\n",
       " {'Total units': '10'},\n",
       " {'Monthly parking lot': 'No vacancies'},\n",
       " {'fire insurance': '2 years ¥13,130 ~ ¥26,680'},\n",
       " {'Transaction type': 'Directly-managed store: Owner \\nLender Partners: Intermediation '},\n",
       " {'Current condition': 'Scheduled to leave'},\n",
       " {'Type/Building age': 'Apartment/Property Age: 25 Years（March 2000）'},\n",
       " {'Moving in/Hand-over': 'September 27 2025'},\n",
       " {'Depreciation・Non-refundable Restoration Fee': '-'},\n",
       " {'Other': 'Limited to individual contracts.'},\n",
       " {'Renewal fee': '¥16,500 (tax included)'},\n",
       " {'Community fee': '¥550/month (tax included)'},\n",
       " {'Key exchange fee/Smartlock system registration fee': '¥16,500 (tax included)'},\n",
       " {'Cleaning fee when moving out': '¥52,800 (tax included)'},\n",
       " {'Antibacterial cleaning fee（Optional）': '¥23,540 ~ ¥34,870（tax included）'},\n",
       " {'Tenant support system plus（Optional）': '¥18,975 (tax included)'},\n",
       " {'Guarantee commission fee（Individual contract only）': '100% to 120% of the usage fee (at the time of contract) / 10,000 JPY (every year after the second year)'},\n",
       " {'Internet usage fee': 'From ¥3,630 per month (tax included)'},\n",
       " {'Renewal fee': '¥16,500 (tax included)'},\n",
       " {'Community fee': '¥550/month (tax included)'},\n",
       " {'Key exchange fee/Smartlock system registration fee': '¥16,500 (tax included)'},\n",
       " {'Cleaning fee when moving out': '¥52,800 (tax included)'},\n",
       " {'Antibacterial cleaning fee（Optional）': '¥23,540 ~ ¥34,870（tax included）'},\n",
       " {'Tenant support system plus（Optional）': '¥18,975 (tax included)'},\n",
       " {'Guarantee commission fee（Individual contract only）': '100% to 120% of the usage fee (at the time of contract) / 10,000 JPY (every year after the second year)'},\n",
       " {'Internet usage fee': 'From ¥3,630 per month (tax included)'},\n",
       " {'Name': 'Leopalace21 International Contact Center'},\n",
       " {'Location': '2-54-5 Honcho, Nakano-ku, Tokyo Leopalace21 Annex 2F'},\n",
       " {'Business Hours': '10:00 - 18:00'},\n",
       " {'License number': 'Minister of Land, Infrastructure, Transport and Tourism Permit (12) No. 2846'},\n",
       " {'Affiliated organization': \"Japan Rental Housing Management Association\\nNational Federation of Rental Housing Managers' Associations\\r\"}]"
      ]
     },
     "execution_count": 18,
     "metadata": {},
     "output_type": "execute_result"
    }
   ],
   "source": [
    "chunk"
   ]
  },
  {
   "cell_type": "code",
   "execution_count": 19,
   "id": "0410a2ca",
   "metadata": {},
   "outputs": [
    {
     "data": {
      "text/plain": [
       "[{'property name': 'leopalace Com・Igret B Unit 102'},\n",
       " {'price': '45000'},\n",
       " {'maintanence': '5000'},\n",
       " {'gmap': 'https://www.google.com/maps/search/?api=1&query=34.79809%2C134.62361'},\n",
       " {'brokerage fee': 'Not required'},\n",
       " {'scecurity deposit/deposit': 'Not required'},\n",
       " {'non-refundable restoration fee': 'Not required'},\n",
       " {'key money': 'Not required'},\n",
       " {'Bathroom · Toilet': 'Separated bath and toilet、Washlet with warm water、Independent washbasin、Indoor washing machine place'},\n",
       " {'Broadcasting・Communication': 'Internet Compatible、LEONET、CATV'},\n",
       " {'Others': 'Hot-water supply、Air conditioner、Bicycle parking area、Counter Kitechen 、Rental Parking'},\n",
       " {'Bathroom · Toilet': 'Separated bath and toilet、Washlet with warm water、Independent washbasin、Indoor washing machine place'},\n",
       " {'Broadcasting・Communication': 'Internet Compatible、LEONET、CATV'},\n",
       " {'Others': 'Hot-water supply、Air conditioner、Bicycle parking area、Counter Kitechen 、Rental Parking'},\n",
       " {'Address': 'Takahama-cho 2-55,Himeji-shi Hirohata-ku,Hyogo-ken'},\n",
       " {'Commute': 'Sanyodentetsuaboshi line 「Hirohatastation」walk 8 minutes'},\n",
       " {'Floor plan/Area size': '2DK/49.68㎡'},\n",
       " {'Home Furniture・Home appliances': 'Available '},\n",
       " {'Building structure': 'Lightweight Steel'},\n",
       " {'Floor/Number of Floors': '1/2'},\n",
       " {'Total units': '10'},\n",
       " {'Monthly parking lot': 'No vacancies'},\n",
       " {'fire insurance': '2 years ¥13,130 ~ ¥26,680'},\n",
       " {'Transaction type': 'Directly-managed store: Owner \\nLender Partners: Intermediation '},\n",
       " {'Current condition': 'Scheduled to leave'},\n",
       " {'Type/Building age': 'Apartment/Property Age: 25 Years（March 2000）'},\n",
       " {'Moving in/Hand-over': 'September 27 2025'},\n",
       " {'Depreciation・Non-refundable Restoration Fee': '-'},\n",
       " {'Other': 'Limited to individual contracts.'},\n",
       " {'Renewal fee': '¥16,500 (tax included)'},\n",
       " {'Community fee': '¥550/month (tax included)'},\n",
       " {'Key exchange fee/Smartlock system registration fee': '¥16,500 (tax included)'},\n",
       " {'Cleaning fee when moving out': '¥52,800 (tax included)'},\n",
       " {'Antibacterial cleaning fee（Optional）': '¥23,540 ~ ¥34,870（tax included）'},\n",
       " {'Tenant support system plus（Optional）': '¥18,975 (tax included)'},\n",
       " {'Guarantee commission fee（Individual contract only）': '100% to 120% of the usage fee (at the time of contract) / 10,000 JPY (every year after the second year)'},\n",
       " {'Internet usage fee': 'From ¥3,630 per month (tax included)'},\n",
       " {'Renewal fee': '¥16,500 (tax included)'},\n",
       " {'Community fee': '¥550/month (tax included)'},\n",
       " {'Key exchange fee/Smartlock system registration fee': '¥16,500 (tax included)'},\n",
       " {'Cleaning fee when moving out': '¥52,800 (tax included)'},\n",
       " {'Antibacterial cleaning fee（Optional）': '¥23,540 ~ ¥34,870（tax included）'},\n",
       " {'Tenant support system plus（Optional）': '¥18,975 (tax included)'},\n",
       " {'Guarantee commission fee（Individual contract only）': '100% to 120% of the usage fee (at the time of contract) / 10,000 JPY (every year after the second year)'},\n",
       " {'Internet usage fee': 'From ¥3,630 per month (tax included)'},\n",
       " {'Name': 'Leopalace21 International Contact Center'},\n",
       " {'Location': '2-54-5 Honcho, Nakano-ku, Tokyo Leopalace21 Annex 2F'},\n",
       " {'Business Hours': '10:00 - 18:00'},\n",
       " {'License number': 'Minister of Land, Infrastructure, Transport and Tourism Permit (12) No. 2846'},\n",
       " {'Affiliated organization': \"Japan Rental Housing Management Association\\nNational Federation of Rental Housing Managers' Associations\\r\"}]"
      ]
     },
     "execution_count": 19,
     "metadata": {},
     "output_type": "execute_result"
    }
   ],
   "source": [
    "json_results"
   ]
  }
 ],
 "metadata": {
  "kernelspec": {
   "display_name": "scrap",
   "language": "python",
   "name": "python3"
  },
  "language_info": {
   "codemirror_mode": {
    "name": "ipython",
    "version": 3
   },
   "file_extension": ".py",
   "mimetype": "text/x-python",
   "name": "python",
   "nbconvert_exporter": "python",
   "pygments_lexer": "ipython3",
   "version": "3.11.13"
  }
 },
 "nbformat": 4,
 "nbformat_minor": 5
}
